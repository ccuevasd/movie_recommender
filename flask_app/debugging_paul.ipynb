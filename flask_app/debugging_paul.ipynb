{
 "cells": [
  {
   "cell_type": "code",
   "execution_count": 1,
   "metadata": {},
   "outputs": [
    {
     "name": "stderr",
     "output_type": "stream",
     "text": [
      "/anaconda3/envs/dl/lib/python3.6/site-packages/fuzzywuzzy/fuzz.py:11: UserWarning: Using slow pure-python SequenceMatcher. Install python-Levenshtein to remove this warning\n",
      "  warnings.warn('Using slow pure-python SequenceMatcher. Install python-Levenshtein to remove this warning')\n"
     ]
    }
   ],
   "source": [
    "#!/usr/bin/env python\n",
    "# coding: utf-8\n",
    "\n",
    "import pandas as pd\n",
    "import numpy as np\n",
    "from sklearn.decomposition import NMF\n",
    "from fuzzywuzzy import process"
   ]
  },
  {
   "cell_type": "code",
   "execution_count": 2,
   "metadata": {},
   "outputs": [],
   "source": [
    "R = pd.read_csv('../data/UserRatingTitles-withoutYear.csv', index_col=0)"
   ]
  },
  {
   "cell_type": "code",
   "execution_count": 3,
   "metadata": {},
   "outputs": [
    {
     "data": {
      "text/plain": [
       "(610, 9724)"
      ]
     },
     "execution_count": 3,
     "metadata": {},
     "output_type": "execute_result"
    }
   ],
   "source": [
    "R.shape"
   ]
  },
  {
   "cell_type": "code",
   "execution_count": 4,
   "metadata": {},
   "outputs": [],
   "source": [
    "R.fillna(2.5, inplace=True)"
   ]
  },
  {
   "cell_type": "code",
   "execution_count": 5,
   "metadata": {},
   "outputs": [
    {
     "data": {
      "text/plain": [
       "NMF(alpha=0.0, beta_loss='frobenius', init=None, l1_ratio=0.0, max_iter=200,\n",
       "    n_components=19, random_state=None, shuffle=False, solver='cd', tol=0.0001,\n",
       "    verbose=0)"
      ]
     },
     "execution_count": 5,
     "metadata": {},
     "output_type": "execute_result"
    }
   ],
   "source": [
    "model = NMF(19)\n",
    "model.fit(R)"
   ]
  },
  {
   "cell_type": "code",
   "execution_count": 6,
   "metadata": {},
   "outputs": [],
   "source": [
    "Q = pd.DataFrame(model.components_, columns=R.columns)\n",
    "\n",
    "P = pd.DataFrame(model.transform(R), index=R.index)"
   ]
  },
  {
   "cell_type": "code",
   "execution_count": 7,
   "metadata": {},
   "outputs": [
    {
     "data": {
      "text/plain": [
       "((19, 9724), (610, 19))"
      ]
     },
     "execution_count": 7,
     "metadata": {},
     "output_type": "execute_result"
    }
   ],
   "source": [
    "Q.shape, P.shape"
   ]
  },
  {
   "cell_type": "code",
   "execution_count": 8,
   "metadata": {},
   "outputs": [],
   "source": [
    "test_user_input = {\n",
    "     'toy Story': '5',\n",
    "     'Jumanyi': '3',\n",
    "     'Grupmyer Old Men': '4'\n",
    "    }\n",
    "\n",
    "REALITY = {'movie1': 'Toy Story (1995)', \n",
    "           'rating1': '5', \n",
    "           'movie2': 'Jumanji (1995)', \n",
    "           'rating2': '5', \n",
    "           'movie3': 'Grumpier Old Men (1995)', \n",
    "           'rating3': '5'}"
   ]
  },
  {
   "cell_type": "code",
   "execution_count": 9,
   "metadata": {},
   "outputs": [],
   "source": [
    "def convert_flask_dict(flask_dict):\n",
    "    new_keys = list(flask_dict.values())[::2]\n",
    "    new_vals = list(flask_dict.values())[1::2]\n",
    "    \n",
    "    return dict(zip(new_keys, new_vals))\n",
    "    "
   ]
  },
  {
   "cell_type": "code",
   "execution_count": 10,
   "metadata": {},
   "outputs": [],
   "source": [
    "test_user_input = convert_flask_dict(REALITY)"
   ]
  },
  {
   "cell_type": "code",
   "execution_count": 11,
   "metadata": {},
   "outputs": [],
   "source": [
    "new_user_vector = pd.DataFrame([np.nan]*len(R.columns), index=R.columns).transpose()"
   ]
  },
  {
   "cell_type": "code",
   "execution_count": 16,
   "metadata": {},
   "outputs": [
    {
     "data": {
      "text/plain": [
       "{'Toy Story (1995)': '5',\n",
       " 'Jumanji (1995)': '5',\n",
       " 'Grumpier Old Men (1995)': '5'}"
      ]
     },
     "execution_count": 16,
     "metadata": {},
     "output_type": "execute_result"
    }
   ],
   "source": [
    "test_user_input"
   ]
  },
  {
   "cell_type": "code",
   "execution_count": 13,
   "metadata": {},
   "outputs": [],
   "source": [
    "# Loop to check whether user_id is there\n",
    "for key, value in test_user_input.items():\n",
    "\n",
    "    if key in new_user_vector.columns:\n",
    "        new_user_vector.loc[:, key] = float(value)\n",
    "        \n",
    "        \n",
    "    else:\n",
    "        closest_match = process.extract(key, R.columns)[0][0]\n",
    "\n",
    "\n",
    "        new_user_vector.loc[:, closest_match] = float(value)\n",
    "        \n",
    "        \n",
    "        if len(closest_match) < 0.5*len(key):\n",
    "            \n",
    "            closest_match = process.extract(key, R.columns)[1][0]\n",
    "            new_user_vector.loc[:, closest_match] = float(value)\n",
    "            # print(closest_match)"
   ]
  },
  {
   "cell_type": "code",
   "execution_count": 17,
   "metadata": {},
   "outputs": [
    {
     "data": {
      "text/html": [
       "<div>\n",
       "<style scoped>\n",
       "    .dataframe tbody tr th:only-of-type {\n",
       "        vertical-align: middle;\n",
       "    }\n",
       "\n",
       "    .dataframe tbody tr th {\n",
       "        vertical-align: top;\n",
       "    }\n",
       "\n",
       "    .dataframe thead th {\n",
       "        text-align: right;\n",
       "    }\n",
       "</style>\n",
       "<table border=\"1\" class=\"dataframe\">\n",
       "  <thead>\n",
       "    <tr style=\"text-align: right;\">\n",
       "      <th></th>\n",
       "      <th>Toy Story</th>\n",
       "      <th>Jumanji</th>\n",
       "      <th>Grumpier Old Men</th>\n",
       "      <th>Waiting to Exhale</th>\n",
       "      <th>Father of the Bride Part II</th>\n",
       "      <th>Heat</th>\n",
       "      <th>Sabrina</th>\n",
       "      <th>Tom and Huck</th>\n",
       "      <th>Sudden Death</th>\n",
       "      <th>GoldenEye</th>\n",
       "      <th>...</th>\n",
       "      <th>Gintama: The Movie</th>\n",
       "      <th>anohana: The Flower We Saw That Day - The Movie</th>\n",
       "      <th>Silver Spoon</th>\n",
       "      <th>Love Live! The School Idol Movie</th>\n",
       "      <th>Jon Stewart Has Left the Building</th>\n",
       "      <th>Black Butler: Book of the Atlantic</th>\n",
       "      <th>No Game No Life: Zero</th>\n",
       "      <th>Flint</th>\n",
       "      <th>Bungo Stray Dogs: Dead Apple</th>\n",
       "      <th>Andrew Dice Clay: Dice Rules</th>\n",
       "    </tr>\n",
       "  </thead>\n",
       "  <tbody>\n",
       "    <tr>\n",
       "      <th>0</th>\n",
       "      <td>5.0</td>\n",
       "      <td>5.0</td>\n",
       "      <td>5.0</td>\n",
       "      <td>NaN</td>\n",
       "      <td>NaN</td>\n",
       "      <td>NaN</td>\n",
       "      <td>NaN</td>\n",
       "      <td>NaN</td>\n",
       "      <td>NaN</td>\n",
       "      <td>NaN</td>\n",
       "      <td>...</td>\n",
       "      <td>NaN</td>\n",
       "      <td>NaN</td>\n",
       "      <td>NaN</td>\n",
       "      <td>NaN</td>\n",
       "      <td>NaN</td>\n",
       "      <td>NaN</td>\n",
       "      <td>NaN</td>\n",
       "      <td>NaN</td>\n",
       "      <td>NaN</td>\n",
       "      <td>NaN</td>\n",
       "    </tr>\n",
       "  </tbody>\n",
       "</table>\n",
       "<p>1 rows × 9724 columns</p>\n",
       "</div>"
      ],
      "text/plain": [
       "   Toy Story  Jumanji  Grumpier Old Men  Waiting to Exhale  \\\n",
       "0        5.0      5.0               5.0                NaN   \n",
       "\n",
       "   Father of the Bride Part II  Heat  Sabrina  Tom and Huck  Sudden Death  \\\n",
       "0                          NaN   NaN      NaN           NaN           NaN   \n",
       "\n",
       "   GoldenEye  ...  Gintama: The Movie  \\\n",
       "0        NaN  ...                 NaN   \n",
       "\n",
       "   anohana: The Flower We Saw That Day - The Movie  Silver Spoon  \\\n",
       "0                                              NaN           NaN   \n",
       "\n",
       "   Love Live! The School Idol Movie  Jon Stewart Has Left the Building  \\\n",
       "0                               NaN                                NaN   \n",
       "\n",
       "   Black Butler: Book of the Atlantic  No Game No Life: Zero  Flint  \\\n",
       "0                                 NaN                    NaN    NaN   \n",
       "\n",
       "   Bungo Stray Dogs: Dead Apple  Andrew Dice Clay: Dice Rules  \n",
       "0                           NaN                           NaN  \n",
       "\n",
       "[1 rows x 9724 columns]"
      ]
     },
     "execution_count": 17,
     "metadata": {},
     "output_type": "execute_result"
    }
   ],
   "source": [
    "new_user_vector"
   ]
  },
  {
   "cell_type": "code",
   "execution_count": 18,
   "metadata": {},
   "outputs": [],
   "source": [
    "# Fill in the missing values\n",
    "new_user_vector_filled = new_user_vector.fillna(2.5)\n",
    "\n",
    "# Calculate the hidden profile with nmf.transform # user-feature_matrix of new user\n",
    "hidden_profile = model.transform(new_user_vector_filled)\n",
    "\n",
    "# Calculate the predictions using np.dot\n",
    "rating_prediction = pd.DataFrame(np.dot(hidden_profile, model.components_), columns= new_user_vector.columns)\n",
    "\n",
    "# Create a boolean mask to filter out the positions where the data was originally NaN\n",
    "bool_mask = np.isnan(new_user_vector.values[0])\n",
    "\n",
    "# Find the movies that have not yet been seen\n",
    "movies_not_seen = rating_prediction.columns[bool_mask]\n",
    "\n",
    "# Find recommendations for unseen movies\n",
    "movies_not_seen_df = rating_prediction[movies_not_seen].T\n",
    "\n",
    "# Get recommendations\n",
    "films_recommended = movies_not_seen_df.sort_values(by=0, ascending=False).index[:3]"
   ]
  },
  {
   "cell_type": "code",
   "execution_count": null,
   "metadata": {},
   "outputs": [],
   "source": [
    "def get_recommendations(user_input):\n",
    "    flask_user_input = user_input\n",
    "    # flask_user_input = {\n",
    "    # 'toy Story': '5',\n",
    "    #  'Jumanyi': '3',\n",
    "    #  'Grupmyer Old Men': '4'\n",
    "    #  }\n",
    "\n",
    "    new_user_vector = pd.DataFrame([np.nan]*len(R.columns), index=R.columns).transpose()\n",
    "\n",
    "    # Loop to check whether user_id is there\n",
    "    for key, value in flask_user_input.items():\n",
    "        if key in new_user_vector.columns:\n",
    "            new_user_vector.loc[:, key] = float(value)\n",
    "        else:\n",
    "            closest_match = process.extract(key, R.columns)[0][0]\n",
    "            new_user_vector.loc[:, closest_match] = float(value)\n",
    "            if len(process.extract(key, R.columns)[0][0]) < 0.5*len(key):\n",
    "                closest_match = process.extract(key, R.columns)[1][0]\n",
    "                new_user_vector.loc[:, closest_match] = float(value)\n",
    "                # print(closest_match)\n",
    "\n",
    "    # Fill in the missing values\n",
    "    new_user_vector_filled = new_user_vector.fillna(2.5)\n",
    "\n",
    "    # Calculate the hidden profile with nmf.transform # user-feature_matrix of new user\n",
    "    hidden_profile = model.transform(new_user_vector_filled)\n",
    "\n",
    "    # Calculate the predictions using np.dot\n",
    "    rating_prediction = pd.DataFrame(np.dot(hidden_profile, model.components_), columns= new_user_vector.columns)\n",
    "\n",
    "    # Create a boolean mask to filter out the positions where the data was originally NaN\n",
    "    bool_mask = np.isnan(new_user_vector.values[0])\n",
    "\n",
    "    # Find the movies that have not yet been seen\n",
    "    movies_not_seen = rating_prediction.columns[bool_mask]\n",
    "\n",
    "    # Find recommendations for unseen movies\n",
    "    movies_not_seen_df = rating_prediction[movies_not_seen].T\n",
    "\n",
    "    # Get recommendations\n",
    "    films_recommended = movies_not_seen_df.sort_values(by=0, ascending=False).index[:3]\n",
    "    return films_recommended\n",
    "#print(get_recommendations(user_input))"
   ]
  },
  {
   "cell_type": "code",
   "execution_count": 19,
   "metadata": {},
   "outputs": [
    {
     "data": {
      "text/plain": [
       "Index(['Shawshank Redemption, The', 'Forrest Gump',\n",
       "       'Star Wars: Episode IV - A New Hope'],\n",
       "      dtype='object')"
      ]
     },
     "execution_count": 19,
     "metadata": {},
     "output_type": "execute_result"
    }
   ],
   "source": [
    "films_recommended"
   ]
  },
  {
   "cell_type": "code",
   "execution_count": null,
   "metadata": {},
   "outputs": [],
   "source": []
  }
 ],
 "metadata": {
  "kernelspec": {
   "display_name": "Python 3",
   "language": "python",
   "name": "python3"
  },
  "language_info": {
   "codemirror_mode": {
    "name": "ipython",
    "version": 3
   },
   "file_extension": ".py",
   "mimetype": "text/x-python",
   "name": "python",
   "nbconvert_exporter": "python",
   "pygments_lexer": "ipython3",
   "version": "3.6.10"
  }
 },
 "nbformat": 4,
 "nbformat_minor": 4
}
