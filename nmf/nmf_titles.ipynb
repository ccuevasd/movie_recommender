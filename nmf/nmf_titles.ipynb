{
 "cells": [
  {
   "cell_type": "code",
   "execution_count": 31,
   "metadata": {},
   "outputs": [],
   "source": [
    "import pandas as pd\n",
    "import numpy as np \n",
    "from sklearn.decomposition import NMF\n",
    "from fuzzywuzzy import process"
   ]
  },
  {
   "cell_type": "code",
   "execution_count": 32,
   "metadata": {},
   "outputs": [
    {
     "output_type": "execute_result",
     "data": {
      "text/plain": "        Toy Story (1995)  Jumanji (1995)  Grumpier Old Men (1995)  \\\nuserId                                                              \n1                    4.0             NaN                      4.0   \n2                    NaN             NaN                      NaN   \n3                    NaN             NaN                      NaN   \n4                    NaN             NaN                      NaN   \n5                    4.0             NaN                      NaN   \n...                  ...             ...                      ...   \n606                  2.5             NaN                      NaN   \n607                  4.0             NaN                      NaN   \n608                  2.5             2.0                      2.0   \n609                  3.0             NaN                      NaN   \n610                  5.0             NaN                      NaN   \n\n        Waiting to Exhale (1995)  Father of the Bride Part II (1995)  \\\nuserId                                                                 \n1                            NaN                                 NaN   \n2                            NaN                                 NaN   \n3                            NaN                                 NaN   \n4                            NaN                                 NaN   \n5                            NaN                                 NaN   \n...                          ...                                 ...   \n606                          NaN                                 NaN   \n607                          NaN                                 NaN   \n608                          NaN                                 NaN   \n609                          NaN                                 NaN   \n610                          NaN                                 NaN   \n\n        Heat (1995)  Sabrina (1995)  Tom and Huck (1995)  Sudden Death (1995)  \\\nuserId                                                                          \n1               4.0             NaN                  NaN                  NaN   \n2               NaN             NaN                  NaN                  NaN   \n3               NaN             NaN                  NaN                  NaN   \n4               NaN             NaN                  NaN                  NaN   \n5               NaN             NaN                  NaN                  NaN   \n...             ...             ...                  ...                  ...   \n606             NaN             2.5                  NaN                  NaN   \n607             NaN             NaN                  NaN                  NaN   \n608             NaN             NaN                  NaN                  NaN   \n609             NaN             NaN                  NaN                  NaN   \n610             5.0             NaN                  NaN                  NaN   \n\n        GoldenEye (1995)  ...  Gintama: The Movie (2010)  \\\nuserId                    ...                              \n1                    NaN  ...                        NaN   \n2                    NaN  ...                        NaN   \n3                    NaN  ...                        NaN   \n4                    NaN  ...                        NaN   \n5                    NaN  ...                        NaN   \n...                  ...  ...                        ...   \n606                  NaN  ...                        NaN   \n607                  NaN  ...                        NaN   \n608                  4.0  ...                        NaN   \n609                  4.0  ...                        NaN   \n610                  NaN  ...                        NaN   \n\n        anohana: The Flower We Saw That Day - The Movie (2013)  \\\nuserId                                                           \n1                                                     NaN        \n2                                                     NaN        \n3                                                     NaN        \n4                                                     NaN        \n5                                                     NaN        \n...                                                   ...        \n606                                                   NaN        \n607                                                   NaN        \n608                                                   NaN        \n609                                                   NaN        \n610                                                   NaN        \n\n        Silver Spoon (2014)  Love Live! The School Idol Movie (2015)  \\\nuserId                                                                 \n1                       NaN                                      NaN   \n2                       NaN                                      NaN   \n3                       NaN                                      NaN   \n4                       NaN                                      NaN   \n5                       NaN                                      NaN   \n...                     ...                                      ...   \n606                     NaN                                      NaN   \n607                     NaN                                      NaN   \n608                     NaN                                      NaN   \n609                     NaN                                      NaN   \n610                     NaN                                      NaN   \n\n        Jon Stewart Has Left the Building (2015)  \\\nuserId                                             \n1                                            NaN   \n2                                            NaN   \n3                                            NaN   \n4                                            NaN   \n5                                            NaN   \n...                                          ...   \n606                                          NaN   \n607                                          NaN   \n608                                          NaN   \n609                                          NaN   \n610                                          NaN   \n\n        Black Butler: Book of the Atlantic (2017)  \\\nuserId                                              \n1                                             NaN   \n2                                             NaN   \n3                                             NaN   \n4                                             NaN   \n5                                             NaN   \n...                                           ...   \n606                                           NaN   \n607                                           NaN   \n608                                           NaN   \n609                                           NaN   \n610                                           NaN   \n\n        No Game No Life: Zero (2017)  Flint (2017)  \\\nuserId                                               \n1                                NaN           NaN   \n2                                NaN           NaN   \n3                                NaN           NaN   \n4                                NaN           NaN   \n5                                NaN           NaN   \n...                              ...           ...   \n606                              NaN           NaN   \n607                              NaN           NaN   \n608                              NaN           NaN   \n609                              NaN           NaN   \n610                              NaN           NaN   \n\n        Bungo Stray Dogs: Dead Apple (2018)  \\\nuserId                                        \n1                                       NaN   \n2                                       NaN   \n3                                       NaN   \n4                                       NaN   \n5                                       NaN   \n...                                     ...   \n606                                     NaN   \n607                                     NaN   \n608                                     NaN   \n609                                     NaN   \n610                                     NaN   \n\n        Andrew Dice Clay: Dice Rules (1991)  \nuserId                                       \n1                                       NaN  \n2                                       NaN  \n3                                       NaN  \n4                                       NaN  \n5                                       NaN  \n...                                     ...  \n606                                     NaN  \n607                                     NaN  \n608                                     NaN  \n609                                     NaN  \n610                                     NaN  \n\n[610 rows x 9724 columns]",
      "text/html": "<div>\n<style scoped>\n    .dataframe tbody tr th:only-of-type {\n        vertical-align: middle;\n    }\n\n    .dataframe tbody tr th {\n        vertical-align: top;\n    }\n\n    .dataframe thead th {\n        text-align: right;\n    }\n</style>\n<table border=\"1\" class=\"dataframe\">\n  <thead>\n    <tr style=\"text-align: right;\">\n      <th></th>\n      <th>Toy Story (1995)</th>\n      <th>Jumanji (1995)</th>\n      <th>Grumpier Old Men (1995)</th>\n      <th>Waiting to Exhale (1995)</th>\n      <th>Father of the Bride Part II (1995)</th>\n      <th>Heat (1995)</th>\n      <th>Sabrina (1995)</th>\n      <th>Tom and Huck (1995)</th>\n      <th>Sudden Death (1995)</th>\n      <th>GoldenEye (1995)</th>\n      <th>...</th>\n      <th>Gintama: The Movie (2010)</th>\n      <th>anohana: The Flower We Saw That Day - The Movie (2013)</th>\n      <th>Silver Spoon (2014)</th>\n      <th>Love Live! The School Idol Movie (2015)</th>\n      <th>Jon Stewart Has Left the Building (2015)</th>\n      <th>Black Butler: Book of the Atlantic (2017)</th>\n      <th>No Game No Life: Zero (2017)</th>\n      <th>Flint (2017)</th>\n      <th>Bungo Stray Dogs: Dead Apple (2018)</th>\n      <th>Andrew Dice Clay: Dice Rules (1991)</th>\n    </tr>\n    <tr>\n      <th>userId</th>\n      <th></th>\n      <th></th>\n      <th></th>\n      <th></th>\n      <th></th>\n      <th></th>\n      <th></th>\n      <th></th>\n      <th></th>\n      <th></th>\n      <th></th>\n      <th></th>\n      <th></th>\n      <th></th>\n      <th></th>\n      <th></th>\n      <th></th>\n      <th></th>\n      <th></th>\n      <th></th>\n      <th></th>\n    </tr>\n  </thead>\n  <tbody>\n    <tr>\n      <th>1</th>\n      <td>4.0</td>\n      <td>NaN</td>\n      <td>4.0</td>\n      <td>NaN</td>\n      <td>NaN</td>\n      <td>4.0</td>\n      <td>NaN</td>\n      <td>NaN</td>\n      <td>NaN</td>\n      <td>NaN</td>\n      <td>...</td>\n      <td>NaN</td>\n      <td>NaN</td>\n      <td>NaN</td>\n      <td>NaN</td>\n      <td>NaN</td>\n      <td>NaN</td>\n      <td>NaN</td>\n      <td>NaN</td>\n      <td>NaN</td>\n      <td>NaN</td>\n    </tr>\n    <tr>\n      <th>2</th>\n      <td>NaN</td>\n      <td>NaN</td>\n      <td>NaN</td>\n      <td>NaN</td>\n      <td>NaN</td>\n      <td>NaN</td>\n      <td>NaN</td>\n      <td>NaN</td>\n      <td>NaN</td>\n      <td>NaN</td>\n      <td>...</td>\n      <td>NaN</td>\n      <td>NaN</td>\n      <td>NaN</td>\n      <td>NaN</td>\n      <td>NaN</td>\n      <td>NaN</td>\n      <td>NaN</td>\n      <td>NaN</td>\n      <td>NaN</td>\n      <td>NaN</td>\n    </tr>\n    <tr>\n      <th>3</th>\n      <td>NaN</td>\n      <td>NaN</td>\n      <td>NaN</td>\n      <td>NaN</td>\n      <td>NaN</td>\n      <td>NaN</td>\n      <td>NaN</td>\n      <td>NaN</td>\n      <td>NaN</td>\n      <td>NaN</td>\n      <td>...</td>\n      <td>NaN</td>\n      <td>NaN</td>\n      <td>NaN</td>\n      <td>NaN</td>\n      <td>NaN</td>\n      <td>NaN</td>\n      <td>NaN</td>\n      <td>NaN</td>\n      <td>NaN</td>\n      <td>NaN</td>\n    </tr>\n    <tr>\n      <th>4</th>\n      <td>NaN</td>\n      <td>NaN</td>\n      <td>NaN</td>\n      <td>NaN</td>\n      <td>NaN</td>\n      <td>NaN</td>\n      <td>NaN</td>\n      <td>NaN</td>\n      <td>NaN</td>\n      <td>NaN</td>\n      <td>...</td>\n      <td>NaN</td>\n      <td>NaN</td>\n      <td>NaN</td>\n      <td>NaN</td>\n      <td>NaN</td>\n      <td>NaN</td>\n      <td>NaN</td>\n      <td>NaN</td>\n      <td>NaN</td>\n      <td>NaN</td>\n    </tr>\n    <tr>\n      <th>5</th>\n      <td>4.0</td>\n      <td>NaN</td>\n      <td>NaN</td>\n      <td>NaN</td>\n      <td>NaN</td>\n      <td>NaN</td>\n      <td>NaN</td>\n      <td>NaN</td>\n      <td>NaN</td>\n      <td>NaN</td>\n      <td>...</td>\n      <td>NaN</td>\n      <td>NaN</td>\n      <td>NaN</td>\n      <td>NaN</td>\n      <td>NaN</td>\n      <td>NaN</td>\n      <td>NaN</td>\n      <td>NaN</td>\n      <td>NaN</td>\n      <td>NaN</td>\n    </tr>\n    <tr>\n      <th>...</th>\n      <td>...</td>\n      <td>...</td>\n      <td>...</td>\n      <td>...</td>\n      <td>...</td>\n      <td>...</td>\n      <td>...</td>\n      <td>...</td>\n      <td>...</td>\n      <td>...</td>\n      <td>...</td>\n      <td>...</td>\n      <td>...</td>\n      <td>...</td>\n      <td>...</td>\n      <td>...</td>\n      <td>...</td>\n      <td>...</td>\n      <td>...</td>\n      <td>...</td>\n      <td>...</td>\n    </tr>\n    <tr>\n      <th>606</th>\n      <td>2.5</td>\n      <td>NaN</td>\n      <td>NaN</td>\n      <td>NaN</td>\n      <td>NaN</td>\n      <td>NaN</td>\n      <td>2.5</td>\n      <td>NaN</td>\n      <td>NaN</td>\n      <td>NaN</td>\n      <td>...</td>\n      <td>NaN</td>\n      <td>NaN</td>\n      <td>NaN</td>\n      <td>NaN</td>\n      <td>NaN</td>\n      <td>NaN</td>\n      <td>NaN</td>\n      <td>NaN</td>\n      <td>NaN</td>\n      <td>NaN</td>\n    </tr>\n    <tr>\n      <th>607</th>\n      <td>4.0</td>\n      <td>NaN</td>\n      <td>NaN</td>\n      <td>NaN</td>\n      <td>NaN</td>\n      <td>NaN</td>\n      <td>NaN</td>\n      <td>NaN</td>\n      <td>NaN</td>\n      <td>NaN</td>\n      <td>...</td>\n      <td>NaN</td>\n      <td>NaN</td>\n      <td>NaN</td>\n      <td>NaN</td>\n      <td>NaN</td>\n      <td>NaN</td>\n      <td>NaN</td>\n      <td>NaN</td>\n      <td>NaN</td>\n      <td>NaN</td>\n    </tr>\n    <tr>\n      <th>608</th>\n      <td>2.5</td>\n      <td>2.0</td>\n      <td>2.0</td>\n      <td>NaN</td>\n      <td>NaN</td>\n      <td>NaN</td>\n      <td>NaN</td>\n      <td>NaN</td>\n      <td>NaN</td>\n      <td>4.0</td>\n      <td>...</td>\n      <td>NaN</td>\n      <td>NaN</td>\n      <td>NaN</td>\n      <td>NaN</td>\n      <td>NaN</td>\n      <td>NaN</td>\n      <td>NaN</td>\n      <td>NaN</td>\n      <td>NaN</td>\n      <td>NaN</td>\n    </tr>\n    <tr>\n      <th>609</th>\n      <td>3.0</td>\n      <td>NaN</td>\n      <td>NaN</td>\n      <td>NaN</td>\n      <td>NaN</td>\n      <td>NaN</td>\n      <td>NaN</td>\n      <td>NaN</td>\n      <td>NaN</td>\n      <td>4.0</td>\n      <td>...</td>\n      <td>NaN</td>\n      <td>NaN</td>\n      <td>NaN</td>\n      <td>NaN</td>\n      <td>NaN</td>\n      <td>NaN</td>\n      <td>NaN</td>\n      <td>NaN</td>\n      <td>NaN</td>\n      <td>NaN</td>\n    </tr>\n    <tr>\n      <th>610</th>\n      <td>5.0</td>\n      <td>NaN</td>\n      <td>NaN</td>\n      <td>NaN</td>\n      <td>NaN</td>\n      <td>5.0</td>\n      <td>NaN</td>\n      <td>NaN</td>\n      <td>NaN</td>\n      <td>NaN</td>\n      <td>...</td>\n      <td>NaN</td>\n      <td>NaN</td>\n      <td>NaN</td>\n      <td>NaN</td>\n      <td>NaN</td>\n      <td>NaN</td>\n      <td>NaN</td>\n      <td>NaN</td>\n      <td>NaN</td>\n      <td>NaN</td>\n    </tr>\n  </tbody>\n</table>\n<p>610 rows × 9724 columns</p>\n</div>"
     },
     "metadata": {},
     "execution_count": 32
    }
   ],
   "source": [
    "R = pd.read_csv('/Users/camilocuevas/SPICED/movie_recommender/data/UserRatingTitle-withoutYear.csv', index_col=0)\n",
    "R\n"
   ]
  },
  {
   "cell_type": "code",
   "execution_count": 34,
   "metadata": {},
   "outputs": [
    {
     "output_type": "execute_result",
     "data": {
      "text/plain": "        Toy Story  Jumanji  Grumpier Old Men  Waiting to Exhale  \\\nuserId                                                            \n1             4.0      2.5               4.0                2.5   \n2             2.5      2.5               2.5                2.5   \n3             2.5      2.5               2.5                2.5   \n4             2.5      2.5               2.5                2.5   \n5             4.0      2.5               2.5                2.5   \n...           ...      ...               ...                ...   \n606           2.5      2.5               2.5                2.5   \n607           4.0      2.5               2.5                2.5   \n608           2.5      2.0               2.0                2.5   \n609           3.0      2.5               2.5                2.5   \n610           5.0      2.5               2.5                2.5   \n\n        Father of the Bride Part II  Heat  Sabrina  Tom and Huck  \\\nuserId                                                             \n1                               2.5   4.0      2.5           2.5   \n2                               2.5   2.5      2.5           2.5   \n3                               2.5   2.5      2.5           2.5   \n4                               2.5   2.5      2.5           2.5   \n5                               2.5   2.5      2.5           2.5   \n...                             ...   ...      ...           ...   \n606                             2.5   2.5      2.5           2.5   \n607                             2.5   2.5      2.5           2.5   \n608                             2.5   2.5      2.5           2.5   \n609                             2.5   2.5      2.5           2.5   \n610                             2.5   5.0      2.5           2.5   \n\n        Sudden Death  GoldenEye  ...  Gintama: The Movie  \\\nuserId                           ...                       \n1                2.5        2.5  ...                 2.5   \n2                2.5        2.5  ...                 2.5   \n3                2.5        2.5  ...                 2.5   \n4                2.5        2.5  ...                 2.5   \n5                2.5        2.5  ...                 2.5   \n...              ...        ...  ...                 ...   \n606              2.5        2.5  ...                 2.5   \n607              2.5        2.5  ...                 2.5   \n608              2.5        4.0  ...                 2.5   \n609              2.5        4.0  ...                 2.5   \n610              2.5        2.5  ...                 2.5   \n\n        anohana: The Flower We Saw That Day - The Movie  Silver Spoon  \\\nuserId                                                                  \n1                                                   2.5           2.5   \n2                                                   2.5           2.5   \n3                                                   2.5           2.5   \n4                                                   2.5           2.5   \n5                                                   2.5           2.5   \n...                                                 ...           ...   \n606                                                 2.5           2.5   \n607                                                 2.5           2.5   \n608                                                 2.5           2.5   \n609                                                 2.5           2.5   \n610                                                 2.5           2.5   \n\n        Love Live! The School Idol Movie  Jon Stewart Has Left the Building  \\\nuserId                                                                        \n1                                    2.5                                2.5   \n2                                    2.5                                2.5   \n3                                    2.5                                2.5   \n4                                    2.5                                2.5   \n5                                    2.5                                2.5   \n...                                  ...                                ...   \n606                                  2.5                                2.5   \n607                                  2.5                                2.5   \n608                                  2.5                                2.5   \n609                                  2.5                                2.5   \n610                                  2.5                                2.5   \n\n        Black Butler: Book of the Atlantic  No Game No Life: Zero  Flint  \\\nuserId                                                                     \n1                                      2.5                    2.5    2.5   \n2                                      2.5                    2.5    2.5   \n3                                      2.5                    2.5    2.5   \n4                                      2.5                    2.5    2.5   \n5                                      2.5                    2.5    2.5   \n...                                    ...                    ...    ...   \n606                                    2.5                    2.5    2.5   \n607                                    2.5                    2.5    2.5   \n608                                    2.5                    2.5    2.5   \n609                                    2.5                    2.5    2.5   \n610                                    2.5                    2.5    2.5   \n\n        Bungo Stray Dogs: Dead Apple  Andrew Dice Clay: Dice Rules  \nuserId                                                              \n1                                2.5                           2.5  \n2                                2.5                           2.5  \n3                                2.5                           2.5  \n4                                2.5                           2.5  \n5                                2.5                           2.5  \n...                              ...                           ...  \n606                              2.5                           2.5  \n607                              2.5                           2.5  \n608                              2.5                           2.5  \n609                              2.5                           2.5  \n610                              2.5                           2.5  \n\n[610 rows x 9724 columns]",
      "text/html": "<div>\n<style scoped>\n    .dataframe tbody tr th:only-of-type {\n        vertical-align: middle;\n    }\n\n    .dataframe tbody tr th {\n        vertical-align: top;\n    }\n\n    .dataframe thead th {\n        text-align: right;\n    }\n</style>\n<table border=\"1\" class=\"dataframe\">\n  <thead>\n    <tr style=\"text-align: right;\">\n      <th></th>\n      <th>Toy Story</th>\n      <th>Jumanji</th>\n      <th>Grumpier Old Men</th>\n      <th>Waiting to Exhale</th>\n      <th>Father of the Bride Part II</th>\n      <th>Heat</th>\n      <th>Sabrina</th>\n      <th>Tom and Huck</th>\n      <th>Sudden Death</th>\n      <th>GoldenEye</th>\n      <th>...</th>\n      <th>Gintama: The Movie</th>\n      <th>anohana: The Flower We Saw That Day - The Movie</th>\n      <th>Silver Spoon</th>\n      <th>Love Live! The School Idol Movie</th>\n      <th>Jon Stewart Has Left the Building</th>\n      <th>Black Butler: Book of the Atlantic</th>\n      <th>No Game No Life: Zero</th>\n      <th>Flint</th>\n      <th>Bungo Stray Dogs: Dead Apple</th>\n      <th>Andrew Dice Clay: Dice Rules</th>\n    </tr>\n    <tr>\n      <th>userId</th>\n      <th></th>\n      <th></th>\n      <th></th>\n      <th></th>\n      <th></th>\n      <th></th>\n      <th></th>\n      <th></th>\n      <th></th>\n      <th></th>\n      <th></th>\n      <th></th>\n      <th></th>\n      <th></th>\n      <th></th>\n      <th></th>\n      <th></th>\n      <th></th>\n      <th></th>\n      <th></th>\n      <th></th>\n    </tr>\n  </thead>\n  <tbody>\n    <tr>\n      <th>1</th>\n      <td>4.0</td>\n      <td>2.5</td>\n      <td>4.0</td>\n      <td>2.5</td>\n      <td>2.5</td>\n      <td>4.0</td>\n      <td>2.5</td>\n      <td>2.5</td>\n      <td>2.5</td>\n      <td>2.5</td>\n      <td>...</td>\n      <td>2.5</td>\n      <td>2.5</td>\n      <td>2.5</td>\n      <td>2.5</td>\n      <td>2.5</td>\n      <td>2.5</td>\n      <td>2.5</td>\n      <td>2.5</td>\n      <td>2.5</td>\n      <td>2.5</td>\n    </tr>\n    <tr>\n      <th>2</th>\n      <td>2.5</td>\n      <td>2.5</td>\n      <td>2.5</td>\n      <td>2.5</td>\n      <td>2.5</td>\n      <td>2.5</td>\n      <td>2.5</td>\n      <td>2.5</td>\n      <td>2.5</td>\n      <td>2.5</td>\n      <td>...</td>\n      <td>2.5</td>\n      <td>2.5</td>\n      <td>2.5</td>\n      <td>2.5</td>\n      <td>2.5</td>\n      <td>2.5</td>\n      <td>2.5</td>\n      <td>2.5</td>\n      <td>2.5</td>\n      <td>2.5</td>\n    </tr>\n    <tr>\n      <th>3</th>\n      <td>2.5</td>\n      <td>2.5</td>\n      <td>2.5</td>\n      <td>2.5</td>\n      <td>2.5</td>\n      <td>2.5</td>\n      <td>2.5</td>\n      <td>2.5</td>\n      <td>2.5</td>\n      <td>2.5</td>\n      <td>...</td>\n      <td>2.5</td>\n      <td>2.5</td>\n      <td>2.5</td>\n      <td>2.5</td>\n      <td>2.5</td>\n      <td>2.5</td>\n      <td>2.5</td>\n      <td>2.5</td>\n      <td>2.5</td>\n      <td>2.5</td>\n    </tr>\n    <tr>\n      <th>4</th>\n      <td>2.5</td>\n      <td>2.5</td>\n      <td>2.5</td>\n      <td>2.5</td>\n      <td>2.5</td>\n      <td>2.5</td>\n      <td>2.5</td>\n      <td>2.5</td>\n      <td>2.5</td>\n      <td>2.5</td>\n      <td>...</td>\n      <td>2.5</td>\n      <td>2.5</td>\n      <td>2.5</td>\n      <td>2.5</td>\n      <td>2.5</td>\n      <td>2.5</td>\n      <td>2.5</td>\n      <td>2.5</td>\n      <td>2.5</td>\n      <td>2.5</td>\n    </tr>\n    <tr>\n      <th>5</th>\n      <td>4.0</td>\n      <td>2.5</td>\n      <td>2.5</td>\n      <td>2.5</td>\n      <td>2.5</td>\n      <td>2.5</td>\n      <td>2.5</td>\n      <td>2.5</td>\n      <td>2.5</td>\n      <td>2.5</td>\n      <td>...</td>\n      <td>2.5</td>\n      <td>2.5</td>\n      <td>2.5</td>\n      <td>2.5</td>\n      <td>2.5</td>\n      <td>2.5</td>\n      <td>2.5</td>\n      <td>2.5</td>\n      <td>2.5</td>\n      <td>2.5</td>\n    </tr>\n    <tr>\n      <th>...</th>\n      <td>...</td>\n      <td>...</td>\n      <td>...</td>\n      <td>...</td>\n      <td>...</td>\n      <td>...</td>\n      <td>...</td>\n      <td>...</td>\n      <td>...</td>\n      <td>...</td>\n      <td>...</td>\n      <td>...</td>\n      <td>...</td>\n      <td>...</td>\n      <td>...</td>\n      <td>...</td>\n      <td>...</td>\n      <td>...</td>\n      <td>...</td>\n      <td>...</td>\n      <td>...</td>\n    </tr>\n    <tr>\n      <th>606</th>\n      <td>2.5</td>\n      <td>2.5</td>\n      <td>2.5</td>\n      <td>2.5</td>\n      <td>2.5</td>\n      <td>2.5</td>\n      <td>2.5</td>\n      <td>2.5</td>\n      <td>2.5</td>\n      <td>2.5</td>\n      <td>...</td>\n      <td>2.5</td>\n      <td>2.5</td>\n      <td>2.5</td>\n      <td>2.5</td>\n      <td>2.5</td>\n      <td>2.5</td>\n      <td>2.5</td>\n      <td>2.5</td>\n      <td>2.5</td>\n      <td>2.5</td>\n    </tr>\n    <tr>\n      <th>607</th>\n      <td>4.0</td>\n      <td>2.5</td>\n      <td>2.5</td>\n      <td>2.5</td>\n      <td>2.5</td>\n      <td>2.5</td>\n      <td>2.5</td>\n      <td>2.5</td>\n      <td>2.5</td>\n      <td>2.5</td>\n      <td>...</td>\n      <td>2.5</td>\n      <td>2.5</td>\n      <td>2.5</td>\n      <td>2.5</td>\n      <td>2.5</td>\n      <td>2.5</td>\n      <td>2.5</td>\n      <td>2.5</td>\n      <td>2.5</td>\n      <td>2.5</td>\n    </tr>\n    <tr>\n      <th>608</th>\n      <td>2.5</td>\n      <td>2.0</td>\n      <td>2.0</td>\n      <td>2.5</td>\n      <td>2.5</td>\n      <td>2.5</td>\n      <td>2.5</td>\n      <td>2.5</td>\n      <td>2.5</td>\n      <td>4.0</td>\n      <td>...</td>\n      <td>2.5</td>\n      <td>2.5</td>\n      <td>2.5</td>\n      <td>2.5</td>\n      <td>2.5</td>\n      <td>2.5</td>\n      <td>2.5</td>\n      <td>2.5</td>\n      <td>2.5</td>\n      <td>2.5</td>\n    </tr>\n    <tr>\n      <th>609</th>\n      <td>3.0</td>\n      <td>2.5</td>\n      <td>2.5</td>\n      <td>2.5</td>\n      <td>2.5</td>\n      <td>2.5</td>\n      <td>2.5</td>\n      <td>2.5</td>\n      <td>2.5</td>\n      <td>4.0</td>\n      <td>...</td>\n      <td>2.5</td>\n      <td>2.5</td>\n      <td>2.5</td>\n      <td>2.5</td>\n      <td>2.5</td>\n      <td>2.5</td>\n      <td>2.5</td>\n      <td>2.5</td>\n      <td>2.5</td>\n      <td>2.5</td>\n    </tr>\n    <tr>\n      <th>610</th>\n      <td>5.0</td>\n      <td>2.5</td>\n      <td>2.5</td>\n      <td>2.5</td>\n      <td>2.5</td>\n      <td>5.0</td>\n      <td>2.5</td>\n      <td>2.5</td>\n      <td>2.5</td>\n      <td>2.5</td>\n      <td>...</td>\n      <td>2.5</td>\n      <td>2.5</td>\n      <td>2.5</td>\n      <td>2.5</td>\n      <td>2.5</td>\n      <td>2.5</td>\n      <td>2.5</td>\n      <td>2.5</td>\n      <td>2.5</td>\n      <td>2.5</td>\n    </tr>\n  </tbody>\n</table>\n<p>610 rows × 9724 columns</p>\n</div>"
     },
     "metadata": {},
     "execution_count": 34
    }
   ],
   "source": [
    "R.fillna(2.5, inplace=True)\n",
    "R"
   ]
  },
  {
   "cell_type": "code",
   "execution_count": 35,
   "metadata": {},
   "outputs": [],
   "source": [
    "model = NMF(19)"
   ]
  },
  {
   "cell_type": "code",
   "execution_count": 36,
   "metadata": {},
   "outputs": [
    {
     "output_type": "execute_result",
     "data": {
      "text/plain": "NMF(n_components=19)"
     },
     "metadata": {},
     "execution_count": 36
    }
   ],
   "source": [
    "model.fit(R)"
   ]
  },
  {
   "cell_type": "code",
   "execution_count": 37,
   "metadata": {},
   "outputs": [
    {
     "output_type": "execute_result",
     "data": {
      "text/plain": "    Toy Story   Jumanji  Grumpier Old Men  Waiting to Exhale  \\\n0    0.375987  0.538630          0.704726           0.762550   \n1    0.510816  0.333625          0.103849           0.152675   \n2    0.736751  0.114102          0.011786           0.083767   \n3    3.245152  2.494728          1.207288           0.143064   \n4    1.612698  0.578680          0.171292           0.048868   \n5    0.749181  0.150717          0.119102           0.122512   \n6    0.078576  0.072304          0.117732           0.039546   \n7    0.076323  0.420862          0.000000           0.055209   \n8    0.258706  0.317108          0.068470           0.035748   \n9    0.247014  0.057151          0.040440           0.049634   \n10   0.135842  0.000000          0.045096           0.049752   \n11   0.031780  0.057496          0.037266           0.031733   \n12   0.166207  0.020181          0.071617           0.050306   \n13   1.022049  0.733557          0.020947           0.071401   \n14   0.000000  0.038892          0.059744           0.058469   \n15   0.703545  0.305104          0.137633           0.050174   \n16   0.127002  0.012585          0.025416           0.042091   \n17   0.000000  0.073401          0.044815           0.012597   \n18   0.176208  0.204361          0.332712           0.039148   \n\n    Father of the Bride Part II      Heat   Sabrina  Tom and Huck  \\\n0                      0.741887  0.497663  0.738919      0.755668   \n1                      0.207701  0.562752  0.297108      0.225652   \n2                      0.008613  0.584862  0.000000      0.054595   \n3                      0.962754  2.149429  1.121825      0.327882   \n4                      0.164762  0.000000  0.178955      0.005637   \n5                      0.021356  1.337531  0.000000      0.096875   \n6                      0.011187  0.037664  0.065552      0.057176   \n7                      0.051958  0.056795  0.000000      0.060429   \n8                      0.036987  0.259206  0.052221      0.044200   \n9                      0.072811  0.389867  0.050673      0.040108   \n10                     0.046002  0.097209  0.033155      0.046535   \n11                     0.000000  0.004068  0.065123      0.033394   \n12                     0.089040  0.056007  0.047392      0.047936   \n13                     0.000000  0.096499  0.054096      0.100337   \n14                     0.057466  0.151936  0.053833      0.051429   \n15                     0.000000  0.628456  0.007187      0.035480   \n16                     0.036200  0.246881  0.049876      0.042554   \n17                     0.008416  0.267366  0.016273      0.018177   \n18                     0.159918  0.000000  0.080621      0.076530   \n\n    Sudden Death  GoldenEye  ...  Gintama: The Movie  \\\n0       0.788587   0.578491  ...            0.770226   \n1       0.119471   0.298255  ...            0.211283   \n2       0.052868   0.279743  ...            0.048184   \n3       0.154179   2.448109  ...            0.032612   \n4       0.018085   0.000000  ...            0.045800   \n5       0.004649   0.077532  ...            0.088798   \n6       0.034241   0.022787  ...            0.039850   \n7       0.024435   0.254490  ...            0.052684   \n8       0.039354   0.254745  ...            0.039554   \n9       0.063899   0.431246  ...            0.035689   \n10      0.044092   0.001377  ...            0.047404   \n11      0.032786   0.004587  ...            0.035861   \n12      0.058482   0.120152  ...            0.050371   \n13      0.031694   0.485090  ...            0.077923   \n14      0.038139   0.128450  ...            0.049132   \n15      0.011266   0.434842  ...            0.049411   \n16      0.033063   0.006165  ...            0.038827   \n17      0.011626   0.000000  ...            0.013731   \n18      0.056161   0.135955  ...            0.044269   \n\n    anohana: The Flower We Saw That Day - The Movie  Silver Spoon  \\\n0                                          0.768564      0.771889   \n1                                          0.215656      0.206909   \n2                                          0.051015      0.045354   \n3                                          0.042011      0.023213   \n4                                          0.049234      0.042365   \n5                                          0.092636      0.084959   \n6                                          0.038800      0.040900   \n7                                          0.049491      0.055877   \n8                                          0.039409      0.039700   \n9                                          0.037925      0.033452   \n10                                         0.047448      0.047359   \n11                                         0.035840      0.035883   \n12                                         0.050512      0.050230   \n13                                         0.074824      0.081022   \n14                                         0.049478      0.048785   \n15                                         0.051007      0.047815   \n16                                         0.039161      0.038492   \n17                                         0.013596      0.013867   \n18                                         0.045158      0.043379   \n\n    Love Live! The School Idol Movie  Jon Stewart Has Left the Building  \\\n0                           0.771889                           0.770226   \n1                           0.206909                           0.211283   \n2                           0.045354                           0.048184   \n3                           0.023213                           0.032612   \n4                           0.042365                           0.045800   \n5                           0.084959                           0.088798   \n6                           0.040900                           0.039850   \n7                           0.055877                           0.052684   \n8                           0.039700                           0.039554   \n9                           0.033452                           0.035689   \n10                          0.047359                           0.047404   \n11                          0.035883                           0.035861   \n12                          0.050230                           0.050371   \n13                          0.081022                           0.077923   \n14                          0.048785                           0.049132   \n15                          0.047815                           0.049411   \n16                          0.038492                           0.038827   \n17                          0.013867                           0.013731   \n18                          0.043379                           0.044269   \n\n    Black Butler: Book of the Atlantic  No Game No Life: Zero     Flint  \\\n0                             0.771889               0.770226  0.770226   \n1                             0.206909               0.211283  0.211283   \n2                             0.045354               0.048184  0.048184   \n3                             0.023213               0.032612  0.032612   \n4                             0.042365               0.045800  0.045800   \n5                             0.084959               0.088798  0.088798   \n6                             0.040900               0.039850  0.039850   \n7                             0.055877               0.052684  0.052684   \n8                             0.039700               0.039554  0.039554   \n9                             0.033452               0.035689  0.035689   \n10                            0.047359               0.047404  0.047404   \n11                            0.035883               0.035861  0.035861   \n12                            0.050230               0.050371  0.050371   \n13                            0.081022               0.077923  0.077923   \n14                            0.048785               0.049132  0.049132   \n15                            0.047815               0.049411  0.049411   \n16                            0.038492               0.038827  0.038827   \n17                            0.013867               0.013731  0.013731   \n18                            0.043379               0.044269  0.044269   \n\n    Bungo Stray Dogs: Dead Apple  Andrew Dice Clay: Dice Rules  \n0                       0.770226                      0.767085  \n1                       0.211283                      0.221317  \n2                       0.048184                      0.052563  \n3                       0.032612                      0.036450  \n4                       0.045800                      0.048371  \n5                       0.088798                      0.129500  \n6                       0.039850                      0.038418  \n7                       0.052684                      0.050530  \n8                       0.039554                      0.036693  \n9                       0.035689                      0.037019  \n10                      0.047404                      0.046876  \n11                      0.035861                      0.035834  \n12                      0.050371                      0.051921  \n13                      0.077923                      0.081730  \n14                      0.049132                      0.047222  \n15                      0.049411                      0.043187  \n16                      0.038827                      0.042062  \n17                      0.013731                      0.013152  \n18                      0.044269                      0.047008  \n\n[19 rows x 9724 columns]",
      "text/html": "<div>\n<style scoped>\n    .dataframe tbody tr th:only-of-type {\n        vertical-align: middle;\n    }\n\n    .dataframe tbody tr th {\n        vertical-align: top;\n    }\n\n    .dataframe thead th {\n        text-align: right;\n    }\n</style>\n<table border=\"1\" class=\"dataframe\">\n  <thead>\n    <tr style=\"text-align: right;\">\n      <th></th>\n      <th>Toy Story</th>\n      <th>Jumanji</th>\n      <th>Grumpier Old Men</th>\n      <th>Waiting to Exhale</th>\n      <th>Father of the Bride Part II</th>\n      <th>Heat</th>\n      <th>Sabrina</th>\n      <th>Tom and Huck</th>\n      <th>Sudden Death</th>\n      <th>GoldenEye</th>\n      <th>...</th>\n      <th>Gintama: The Movie</th>\n      <th>anohana: The Flower We Saw That Day - The Movie</th>\n      <th>Silver Spoon</th>\n      <th>Love Live! The School Idol Movie</th>\n      <th>Jon Stewart Has Left the Building</th>\n      <th>Black Butler: Book of the Atlantic</th>\n      <th>No Game No Life: Zero</th>\n      <th>Flint</th>\n      <th>Bungo Stray Dogs: Dead Apple</th>\n      <th>Andrew Dice Clay: Dice Rules</th>\n    </tr>\n  </thead>\n  <tbody>\n    <tr>\n      <th>0</th>\n      <td>0.375987</td>\n      <td>0.538630</td>\n      <td>0.704726</td>\n      <td>0.762550</td>\n      <td>0.741887</td>\n      <td>0.497663</td>\n      <td>0.738919</td>\n      <td>0.755668</td>\n      <td>0.788587</td>\n      <td>0.578491</td>\n      <td>...</td>\n      <td>0.770226</td>\n      <td>0.768564</td>\n      <td>0.771889</td>\n      <td>0.771889</td>\n      <td>0.770226</td>\n      <td>0.771889</td>\n      <td>0.770226</td>\n      <td>0.770226</td>\n      <td>0.770226</td>\n      <td>0.767085</td>\n    </tr>\n    <tr>\n      <th>1</th>\n      <td>0.510816</td>\n      <td>0.333625</td>\n      <td>0.103849</td>\n      <td>0.152675</td>\n      <td>0.207701</td>\n      <td>0.562752</td>\n      <td>0.297108</td>\n      <td>0.225652</td>\n      <td>0.119471</td>\n      <td>0.298255</td>\n      <td>...</td>\n      <td>0.211283</td>\n      <td>0.215656</td>\n      <td>0.206909</td>\n      <td>0.206909</td>\n      <td>0.211283</td>\n      <td>0.206909</td>\n      <td>0.211283</td>\n      <td>0.211283</td>\n      <td>0.211283</td>\n      <td>0.221317</td>\n    </tr>\n    <tr>\n      <th>2</th>\n      <td>0.736751</td>\n      <td>0.114102</td>\n      <td>0.011786</td>\n      <td>0.083767</td>\n      <td>0.008613</td>\n      <td>0.584862</td>\n      <td>0.000000</td>\n      <td>0.054595</td>\n      <td>0.052868</td>\n      <td>0.279743</td>\n      <td>...</td>\n      <td>0.048184</td>\n      <td>0.051015</td>\n      <td>0.045354</td>\n      <td>0.045354</td>\n      <td>0.048184</td>\n      <td>0.045354</td>\n      <td>0.048184</td>\n      <td>0.048184</td>\n      <td>0.048184</td>\n      <td>0.052563</td>\n    </tr>\n    <tr>\n      <th>3</th>\n      <td>3.245152</td>\n      <td>2.494728</td>\n      <td>1.207288</td>\n      <td>0.143064</td>\n      <td>0.962754</td>\n      <td>2.149429</td>\n      <td>1.121825</td>\n      <td>0.327882</td>\n      <td>0.154179</td>\n      <td>2.448109</td>\n      <td>...</td>\n      <td>0.032612</td>\n      <td>0.042011</td>\n      <td>0.023213</td>\n      <td>0.023213</td>\n      <td>0.032612</td>\n      <td>0.023213</td>\n      <td>0.032612</td>\n      <td>0.032612</td>\n      <td>0.032612</td>\n      <td>0.036450</td>\n    </tr>\n    <tr>\n      <th>4</th>\n      <td>1.612698</td>\n      <td>0.578680</td>\n      <td>0.171292</td>\n      <td>0.048868</td>\n      <td>0.164762</td>\n      <td>0.000000</td>\n      <td>0.178955</td>\n      <td>0.005637</td>\n      <td>0.018085</td>\n      <td>0.000000</td>\n      <td>...</td>\n      <td>0.045800</td>\n      <td>0.049234</td>\n      <td>0.042365</td>\n      <td>0.042365</td>\n      <td>0.045800</td>\n      <td>0.042365</td>\n      <td>0.045800</td>\n      <td>0.045800</td>\n      <td>0.045800</td>\n      <td>0.048371</td>\n    </tr>\n    <tr>\n      <th>5</th>\n      <td>0.749181</td>\n      <td>0.150717</td>\n      <td>0.119102</td>\n      <td>0.122512</td>\n      <td>0.021356</td>\n      <td>1.337531</td>\n      <td>0.000000</td>\n      <td>0.096875</td>\n      <td>0.004649</td>\n      <td>0.077532</td>\n      <td>...</td>\n      <td>0.088798</td>\n      <td>0.092636</td>\n      <td>0.084959</td>\n      <td>0.084959</td>\n      <td>0.088798</td>\n      <td>0.084959</td>\n      <td>0.088798</td>\n      <td>0.088798</td>\n      <td>0.088798</td>\n      <td>0.129500</td>\n    </tr>\n    <tr>\n      <th>6</th>\n      <td>0.078576</td>\n      <td>0.072304</td>\n      <td>0.117732</td>\n      <td>0.039546</td>\n      <td>0.011187</td>\n      <td>0.037664</td>\n      <td>0.065552</td>\n      <td>0.057176</td>\n      <td>0.034241</td>\n      <td>0.022787</td>\n      <td>...</td>\n      <td>0.039850</td>\n      <td>0.038800</td>\n      <td>0.040900</td>\n      <td>0.040900</td>\n      <td>0.039850</td>\n      <td>0.040900</td>\n      <td>0.039850</td>\n      <td>0.039850</td>\n      <td>0.039850</td>\n      <td>0.038418</td>\n    </tr>\n    <tr>\n      <th>7</th>\n      <td>0.076323</td>\n      <td>0.420862</td>\n      <td>0.000000</td>\n      <td>0.055209</td>\n      <td>0.051958</td>\n      <td>0.056795</td>\n      <td>0.000000</td>\n      <td>0.060429</td>\n      <td>0.024435</td>\n      <td>0.254490</td>\n      <td>...</td>\n      <td>0.052684</td>\n      <td>0.049491</td>\n      <td>0.055877</td>\n      <td>0.055877</td>\n      <td>0.052684</td>\n      <td>0.055877</td>\n      <td>0.052684</td>\n      <td>0.052684</td>\n      <td>0.052684</td>\n      <td>0.050530</td>\n    </tr>\n    <tr>\n      <th>8</th>\n      <td>0.258706</td>\n      <td>0.317108</td>\n      <td>0.068470</td>\n      <td>0.035748</td>\n      <td>0.036987</td>\n      <td>0.259206</td>\n      <td>0.052221</td>\n      <td>0.044200</td>\n      <td>0.039354</td>\n      <td>0.254745</td>\n      <td>...</td>\n      <td>0.039554</td>\n      <td>0.039409</td>\n      <td>0.039700</td>\n      <td>0.039700</td>\n      <td>0.039554</td>\n      <td>0.039700</td>\n      <td>0.039554</td>\n      <td>0.039554</td>\n      <td>0.039554</td>\n      <td>0.036693</td>\n    </tr>\n    <tr>\n      <th>9</th>\n      <td>0.247014</td>\n      <td>0.057151</td>\n      <td>0.040440</td>\n      <td>0.049634</td>\n      <td>0.072811</td>\n      <td>0.389867</td>\n      <td>0.050673</td>\n      <td>0.040108</td>\n      <td>0.063899</td>\n      <td>0.431246</td>\n      <td>...</td>\n      <td>0.035689</td>\n      <td>0.037925</td>\n      <td>0.033452</td>\n      <td>0.033452</td>\n      <td>0.035689</td>\n      <td>0.033452</td>\n      <td>0.035689</td>\n      <td>0.035689</td>\n      <td>0.035689</td>\n      <td>0.037019</td>\n    </tr>\n    <tr>\n      <th>10</th>\n      <td>0.135842</td>\n      <td>0.000000</td>\n      <td>0.045096</td>\n      <td>0.049752</td>\n      <td>0.046002</td>\n      <td>0.097209</td>\n      <td>0.033155</td>\n      <td>0.046535</td>\n      <td>0.044092</td>\n      <td>0.001377</td>\n      <td>...</td>\n      <td>0.047404</td>\n      <td>0.047448</td>\n      <td>0.047359</td>\n      <td>0.047359</td>\n      <td>0.047404</td>\n      <td>0.047359</td>\n      <td>0.047404</td>\n      <td>0.047404</td>\n      <td>0.047404</td>\n      <td>0.046876</td>\n    </tr>\n    <tr>\n      <th>11</th>\n      <td>0.031780</td>\n      <td>0.057496</td>\n      <td>0.037266</td>\n      <td>0.031733</td>\n      <td>0.000000</td>\n      <td>0.004068</td>\n      <td>0.065123</td>\n      <td>0.033394</td>\n      <td>0.032786</td>\n      <td>0.004587</td>\n      <td>...</td>\n      <td>0.035861</td>\n      <td>0.035840</td>\n      <td>0.035883</td>\n      <td>0.035883</td>\n      <td>0.035861</td>\n      <td>0.035883</td>\n      <td>0.035861</td>\n      <td>0.035861</td>\n      <td>0.035861</td>\n      <td>0.035834</td>\n    </tr>\n    <tr>\n      <th>12</th>\n      <td>0.166207</td>\n      <td>0.020181</td>\n      <td>0.071617</td>\n      <td>0.050306</td>\n      <td>0.089040</td>\n      <td>0.056007</td>\n      <td>0.047392</td>\n      <td>0.047936</td>\n      <td>0.058482</td>\n      <td>0.120152</td>\n      <td>...</td>\n      <td>0.050371</td>\n      <td>0.050512</td>\n      <td>0.050230</td>\n      <td>0.050230</td>\n      <td>0.050371</td>\n      <td>0.050230</td>\n      <td>0.050371</td>\n      <td>0.050371</td>\n      <td>0.050371</td>\n      <td>0.051921</td>\n    </tr>\n    <tr>\n      <th>13</th>\n      <td>1.022049</td>\n      <td>0.733557</td>\n      <td>0.020947</td>\n      <td>0.071401</td>\n      <td>0.000000</td>\n      <td>0.096499</td>\n      <td>0.054096</td>\n      <td>0.100337</td>\n      <td>0.031694</td>\n      <td>0.485090</td>\n      <td>...</td>\n      <td>0.077923</td>\n      <td>0.074824</td>\n      <td>0.081022</td>\n      <td>0.081022</td>\n      <td>0.077923</td>\n      <td>0.081022</td>\n      <td>0.077923</td>\n      <td>0.077923</td>\n      <td>0.077923</td>\n      <td>0.081730</td>\n    </tr>\n    <tr>\n      <th>14</th>\n      <td>0.000000</td>\n      <td>0.038892</td>\n      <td>0.059744</td>\n      <td>0.058469</td>\n      <td>0.057466</td>\n      <td>0.151936</td>\n      <td>0.053833</td>\n      <td>0.051429</td>\n      <td>0.038139</td>\n      <td>0.128450</td>\n      <td>...</td>\n      <td>0.049132</td>\n      <td>0.049478</td>\n      <td>0.048785</td>\n      <td>0.048785</td>\n      <td>0.049132</td>\n      <td>0.048785</td>\n      <td>0.049132</td>\n      <td>0.049132</td>\n      <td>0.049132</td>\n      <td>0.047222</td>\n    </tr>\n    <tr>\n      <th>15</th>\n      <td>0.703545</td>\n      <td>0.305104</td>\n      <td>0.137633</td>\n      <td>0.050174</td>\n      <td>0.000000</td>\n      <td>0.628456</td>\n      <td>0.007187</td>\n      <td>0.035480</td>\n      <td>0.011266</td>\n      <td>0.434842</td>\n      <td>...</td>\n      <td>0.049411</td>\n      <td>0.051007</td>\n      <td>0.047815</td>\n      <td>0.047815</td>\n      <td>0.049411</td>\n      <td>0.047815</td>\n      <td>0.049411</td>\n      <td>0.049411</td>\n      <td>0.049411</td>\n      <td>0.043187</td>\n    </tr>\n    <tr>\n      <th>16</th>\n      <td>0.127002</td>\n      <td>0.012585</td>\n      <td>0.025416</td>\n      <td>0.042091</td>\n      <td>0.036200</td>\n      <td>0.246881</td>\n      <td>0.049876</td>\n      <td>0.042554</td>\n      <td>0.033063</td>\n      <td>0.006165</td>\n      <td>...</td>\n      <td>0.038827</td>\n      <td>0.039161</td>\n      <td>0.038492</td>\n      <td>0.038492</td>\n      <td>0.038827</td>\n      <td>0.038492</td>\n      <td>0.038827</td>\n      <td>0.038827</td>\n      <td>0.038827</td>\n      <td>0.042062</td>\n    </tr>\n    <tr>\n      <th>17</th>\n      <td>0.000000</td>\n      <td>0.073401</td>\n      <td>0.044815</td>\n      <td>0.012597</td>\n      <td>0.008416</td>\n      <td>0.267366</td>\n      <td>0.016273</td>\n      <td>0.018177</td>\n      <td>0.011626</td>\n      <td>0.000000</td>\n      <td>...</td>\n      <td>0.013731</td>\n      <td>0.013596</td>\n      <td>0.013867</td>\n      <td>0.013867</td>\n      <td>0.013731</td>\n      <td>0.013867</td>\n      <td>0.013731</td>\n      <td>0.013731</td>\n      <td>0.013731</td>\n      <td>0.013152</td>\n    </tr>\n    <tr>\n      <th>18</th>\n      <td>0.176208</td>\n      <td>0.204361</td>\n      <td>0.332712</td>\n      <td>0.039148</td>\n      <td>0.159918</td>\n      <td>0.000000</td>\n      <td>0.080621</td>\n      <td>0.076530</td>\n      <td>0.056161</td>\n      <td>0.135955</td>\n      <td>...</td>\n      <td>0.044269</td>\n      <td>0.045158</td>\n      <td>0.043379</td>\n      <td>0.043379</td>\n      <td>0.044269</td>\n      <td>0.043379</td>\n      <td>0.044269</td>\n      <td>0.044269</td>\n      <td>0.044269</td>\n      <td>0.047008</td>\n    </tr>\n  </tbody>\n</table>\n<p>19 rows × 9724 columns</p>\n</div>"
     },
     "metadata": {},
     "execution_count": 37
    }
   ],
   "source": [
    "Q = pd.DataFrame(model.components_, columns=R.columns)\n",
    "Q"
   ]
  },
  {
   "cell_type": "code",
   "execution_count": 38,
   "metadata": {},
   "outputs": [
    {
     "output_type": "execute_result",
     "data": {
      "text/plain": "               0         1         2         3         4         5         6  \\\nuserId                                                                         \n1       2.718117  0.377634  0.090630  0.018048  0.354395  0.153255  0.862217   \n2       3.017571  0.123773  0.138191  0.056390  0.192929  0.215672  0.309842   \n3       3.030232  0.170536  0.127378  0.060112  0.190607  0.092910  0.239826   \n4       2.842416  0.301585  0.551312  0.025818  0.552522  0.000000  0.279212   \n5       3.018647  0.194678  0.194391  0.222496  0.315064  0.163004  0.412072   \n...          ...       ...       ...       ...       ...       ...       ...   \n606     2.320371  0.000000  0.074084  0.000000  0.481232  0.000000  0.000000   \n607     2.998504  0.000000  0.185543  0.184630  0.236973  0.244887  0.385304   \n608     2.638293  0.451295  0.027828  0.000000  0.000000  0.273103  0.241716   \n609     3.041119  0.184255  0.165684  0.170769  0.187722  0.150478  0.242687   \n610     2.163216  0.000000  0.037427  0.000000  0.615379  0.000000  0.609026   \n\n               7         8         9        10        11        12        13  \\\nuserId                                                                         \n1       0.153840  0.547673  0.117380  0.339820  0.000000  2.409706  0.000000   \n2       0.470135  0.162677  0.244410  0.129100  0.101951  0.303771  0.135599   \n3       0.271150  0.411934  0.378739  0.221484  0.000000  0.128030  0.104534   \n4       0.458469  0.009842  0.106674  1.637982  0.518652  0.370714  0.068327   \n5       0.174575  0.272473  0.130701  0.209488  0.164268  0.209112  0.065157   \n...          ...       ...       ...       ...       ...       ...       ...   \n606     0.188454  0.000000  0.000000  0.105351  5.483611  0.782796  0.611176   \n607     0.073752  0.402789  0.376361  0.346502  0.422772  0.000000  0.010202   \n608     0.000000  1.336798  3.844708  0.348127  0.009016  0.000000  0.000000   \n609     0.221079  0.272770  0.257594  0.070811  0.052696  0.096764  0.095155   \n610     0.246293  0.000000  0.829859  0.000000  0.287971  2.977201  0.839176   \n\n              14        15         16        17        18  \nuserId                                                     \n1       0.000000  1.350058   0.000000  0.000000  0.791723  \n2       0.046722  0.149554   0.121678  0.111460  0.355692  \n3       0.036590  0.223583   0.245152  0.103227  0.191167  \n4       0.000000  0.326487   0.047555  0.056003  0.389969  \n5       0.104740  0.100159   0.081466  0.017082  0.049737  \n...          ...       ...        ...       ...       ...  \n606     7.918362  0.000000   0.000000  0.766562  0.000000  \n607     0.000000  0.717281   0.204401  0.000000  0.482324  \n608     1.349543  0.000000   0.652762  0.012332  0.244735  \n609     0.116388  0.139903   0.080211  0.060852  0.237908  \n610     0.070880  0.011255  13.427869  0.000000  0.000000  \n\n[610 rows x 19 columns]",
      "text/html": "<div>\n<style scoped>\n    .dataframe tbody tr th:only-of-type {\n        vertical-align: middle;\n    }\n\n    .dataframe tbody tr th {\n        vertical-align: top;\n    }\n\n    .dataframe thead th {\n        text-align: right;\n    }\n</style>\n<table border=\"1\" class=\"dataframe\">\n  <thead>\n    <tr style=\"text-align: right;\">\n      <th></th>\n      <th>0</th>\n      <th>1</th>\n      <th>2</th>\n      <th>3</th>\n      <th>4</th>\n      <th>5</th>\n      <th>6</th>\n      <th>7</th>\n      <th>8</th>\n      <th>9</th>\n      <th>10</th>\n      <th>11</th>\n      <th>12</th>\n      <th>13</th>\n      <th>14</th>\n      <th>15</th>\n      <th>16</th>\n      <th>17</th>\n      <th>18</th>\n    </tr>\n    <tr>\n      <th>userId</th>\n      <th></th>\n      <th></th>\n      <th></th>\n      <th></th>\n      <th></th>\n      <th></th>\n      <th></th>\n      <th></th>\n      <th></th>\n      <th></th>\n      <th></th>\n      <th></th>\n      <th></th>\n      <th></th>\n      <th></th>\n      <th></th>\n      <th></th>\n      <th></th>\n      <th></th>\n    </tr>\n  </thead>\n  <tbody>\n    <tr>\n      <th>1</th>\n      <td>2.718117</td>\n      <td>0.377634</td>\n      <td>0.090630</td>\n      <td>0.018048</td>\n      <td>0.354395</td>\n      <td>0.153255</td>\n      <td>0.862217</td>\n      <td>0.153840</td>\n      <td>0.547673</td>\n      <td>0.117380</td>\n      <td>0.339820</td>\n      <td>0.000000</td>\n      <td>2.409706</td>\n      <td>0.000000</td>\n      <td>0.000000</td>\n      <td>1.350058</td>\n      <td>0.000000</td>\n      <td>0.000000</td>\n      <td>0.791723</td>\n    </tr>\n    <tr>\n      <th>2</th>\n      <td>3.017571</td>\n      <td>0.123773</td>\n      <td>0.138191</td>\n      <td>0.056390</td>\n      <td>0.192929</td>\n      <td>0.215672</td>\n      <td>0.309842</td>\n      <td>0.470135</td>\n      <td>0.162677</td>\n      <td>0.244410</td>\n      <td>0.129100</td>\n      <td>0.101951</td>\n      <td>0.303771</td>\n      <td>0.135599</td>\n      <td>0.046722</td>\n      <td>0.149554</td>\n      <td>0.121678</td>\n      <td>0.111460</td>\n      <td>0.355692</td>\n    </tr>\n    <tr>\n      <th>3</th>\n      <td>3.030232</td>\n      <td>0.170536</td>\n      <td>0.127378</td>\n      <td>0.060112</td>\n      <td>0.190607</td>\n      <td>0.092910</td>\n      <td>0.239826</td>\n      <td>0.271150</td>\n      <td>0.411934</td>\n      <td>0.378739</td>\n      <td>0.221484</td>\n      <td>0.000000</td>\n      <td>0.128030</td>\n      <td>0.104534</td>\n      <td>0.036590</td>\n      <td>0.223583</td>\n      <td>0.245152</td>\n      <td>0.103227</td>\n      <td>0.191167</td>\n    </tr>\n    <tr>\n      <th>4</th>\n      <td>2.842416</td>\n      <td>0.301585</td>\n      <td>0.551312</td>\n      <td>0.025818</td>\n      <td>0.552522</td>\n      <td>0.000000</td>\n      <td>0.279212</td>\n      <td>0.458469</td>\n      <td>0.009842</td>\n      <td>0.106674</td>\n      <td>1.637982</td>\n      <td>0.518652</td>\n      <td>0.370714</td>\n      <td>0.068327</td>\n      <td>0.000000</td>\n      <td>0.326487</td>\n      <td>0.047555</td>\n      <td>0.056003</td>\n      <td>0.389969</td>\n    </tr>\n    <tr>\n      <th>5</th>\n      <td>3.018647</td>\n      <td>0.194678</td>\n      <td>0.194391</td>\n      <td>0.222496</td>\n      <td>0.315064</td>\n      <td>0.163004</td>\n      <td>0.412072</td>\n      <td>0.174575</td>\n      <td>0.272473</td>\n      <td>0.130701</td>\n      <td>0.209488</td>\n      <td>0.164268</td>\n      <td>0.209112</td>\n      <td>0.065157</td>\n      <td>0.104740</td>\n      <td>0.100159</td>\n      <td>0.081466</td>\n      <td>0.017082</td>\n      <td>0.049737</td>\n    </tr>\n    <tr>\n      <th>...</th>\n      <td>...</td>\n      <td>...</td>\n      <td>...</td>\n      <td>...</td>\n      <td>...</td>\n      <td>...</td>\n      <td>...</td>\n      <td>...</td>\n      <td>...</td>\n      <td>...</td>\n      <td>...</td>\n      <td>...</td>\n      <td>...</td>\n      <td>...</td>\n      <td>...</td>\n      <td>...</td>\n      <td>...</td>\n      <td>...</td>\n      <td>...</td>\n    </tr>\n    <tr>\n      <th>606</th>\n      <td>2.320371</td>\n      <td>0.000000</td>\n      <td>0.074084</td>\n      <td>0.000000</td>\n      <td>0.481232</td>\n      <td>0.000000</td>\n      <td>0.000000</td>\n      <td>0.188454</td>\n      <td>0.000000</td>\n      <td>0.000000</td>\n      <td>0.105351</td>\n      <td>5.483611</td>\n      <td>0.782796</td>\n      <td>0.611176</td>\n      <td>7.918362</td>\n      <td>0.000000</td>\n      <td>0.000000</td>\n      <td>0.766562</td>\n      <td>0.000000</td>\n    </tr>\n    <tr>\n      <th>607</th>\n      <td>2.998504</td>\n      <td>0.000000</td>\n      <td>0.185543</td>\n      <td>0.184630</td>\n      <td>0.236973</td>\n      <td>0.244887</td>\n      <td>0.385304</td>\n      <td>0.073752</td>\n      <td>0.402789</td>\n      <td>0.376361</td>\n      <td>0.346502</td>\n      <td>0.422772</td>\n      <td>0.000000</td>\n      <td>0.010202</td>\n      <td>0.000000</td>\n      <td>0.717281</td>\n      <td>0.204401</td>\n      <td>0.000000</td>\n      <td>0.482324</td>\n    </tr>\n    <tr>\n      <th>608</th>\n      <td>2.638293</td>\n      <td>0.451295</td>\n      <td>0.027828</td>\n      <td>0.000000</td>\n      <td>0.000000</td>\n      <td>0.273103</td>\n      <td>0.241716</td>\n      <td>0.000000</td>\n      <td>1.336798</td>\n      <td>3.844708</td>\n      <td>0.348127</td>\n      <td>0.009016</td>\n      <td>0.000000</td>\n      <td>0.000000</td>\n      <td>1.349543</td>\n      <td>0.000000</td>\n      <td>0.652762</td>\n      <td>0.012332</td>\n      <td>0.244735</td>\n    </tr>\n    <tr>\n      <th>609</th>\n      <td>3.041119</td>\n      <td>0.184255</td>\n      <td>0.165684</td>\n      <td>0.170769</td>\n      <td>0.187722</td>\n      <td>0.150478</td>\n      <td>0.242687</td>\n      <td>0.221079</td>\n      <td>0.272770</td>\n      <td>0.257594</td>\n      <td>0.070811</td>\n      <td>0.052696</td>\n      <td>0.096764</td>\n      <td>0.095155</td>\n      <td>0.116388</td>\n      <td>0.139903</td>\n      <td>0.080211</td>\n      <td>0.060852</td>\n      <td>0.237908</td>\n    </tr>\n    <tr>\n      <th>610</th>\n      <td>2.163216</td>\n      <td>0.000000</td>\n      <td>0.037427</td>\n      <td>0.000000</td>\n      <td>0.615379</td>\n      <td>0.000000</td>\n      <td>0.609026</td>\n      <td>0.246293</td>\n      <td>0.000000</td>\n      <td>0.829859</td>\n      <td>0.000000</td>\n      <td>0.287971</td>\n      <td>2.977201</td>\n      <td>0.839176</td>\n      <td>0.070880</td>\n      <td>0.011255</td>\n      <td>13.427869</td>\n      <td>0.000000</td>\n      <td>0.000000</td>\n    </tr>\n  </tbody>\n</table>\n<p>610 rows × 19 columns</p>\n</div>"
     },
     "metadata": {},
     "execution_count": 38
    }
   ],
   "source": [
    "P = pd.DataFrame(model.transform(R), index=R.index)\n",
    "P"
   ]
  },
  {
   "cell_type": "code",
   "execution_count": 39,
   "metadata": {},
   "outputs": [],
   "source": [
    "# HERE I WILL TRY THE PICKLE THING LATER"
   ]
  },
  {
   "cell_type": "code",
   "execution_count": 40,
   "metadata": {},
   "outputs": [],
   "source": [
    "flask_user_input = {\n",
    "    'toy Story': '5',\n",
    "    'Jumamyi': '3',\n",
    "    'Grupymer Old Men': '4'\n",
    "}"
   ]
  },
  {
   "cell_type": "code",
   "execution_count": 41,
   "metadata": {},
   "outputs": [
    {
     "output_type": "execute_result",
     "data": {
      "text/plain": "   Toy Story  Jumanji  Grumpier Old Men  Waiting to Exhale  \\\n0        NaN      NaN               NaN                NaN   \n\n   Father of the Bride Part II  Heat  Sabrina  Tom and Huck  Sudden Death  \\\n0                          NaN   NaN      NaN           NaN           NaN   \n\n   GoldenEye  ...  Gintama: The Movie  \\\n0        NaN  ...                 NaN   \n\n   anohana: The Flower We Saw That Day - The Movie  Silver Spoon  \\\n0                                              NaN           NaN   \n\n   Love Live! The School Idol Movie  Jon Stewart Has Left the Building  \\\n0                               NaN                                NaN   \n\n   Black Butler: Book of the Atlantic  No Game No Life: Zero  Flint  \\\n0                                 NaN                    NaN    NaN   \n\n   Bungo Stray Dogs: Dead Apple  Andrew Dice Clay: Dice Rules  \n0                           NaN                           NaN  \n\n[1 rows x 9724 columns]",
      "text/html": "<div>\n<style scoped>\n    .dataframe tbody tr th:only-of-type {\n        vertical-align: middle;\n    }\n\n    .dataframe tbody tr th {\n        vertical-align: top;\n    }\n\n    .dataframe thead th {\n        text-align: right;\n    }\n</style>\n<table border=\"1\" class=\"dataframe\">\n  <thead>\n    <tr style=\"text-align: right;\">\n      <th></th>\n      <th>Toy Story</th>\n      <th>Jumanji</th>\n      <th>Grumpier Old Men</th>\n      <th>Waiting to Exhale</th>\n      <th>Father of the Bride Part II</th>\n      <th>Heat</th>\n      <th>Sabrina</th>\n      <th>Tom and Huck</th>\n      <th>Sudden Death</th>\n      <th>GoldenEye</th>\n      <th>...</th>\n      <th>Gintama: The Movie</th>\n      <th>anohana: The Flower We Saw That Day - The Movie</th>\n      <th>Silver Spoon</th>\n      <th>Love Live! The School Idol Movie</th>\n      <th>Jon Stewart Has Left the Building</th>\n      <th>Black Butler: Book of the Atlantic</th>\n      <th>No Game No Life: Zero</th>\n      <th>Flint</th>\n      <th>Bungo Stray Dogs: Dead Apple</th>\n      <th>Andrew Dice Clay: Dice Rules</th>\n    </tr>\n  </thead>\n  <tbody>\n    <tr>\n      <th>0</th>\n      <td>NaN</td>\n      <td>NaN</td>\n      <td>NaN</td>\n      <td>NaN</td>\n      <td>NaN</td>\n      <td>NaN</td>\n      <td>NaN</td>\n      <td>NaN</td>\n      <td>NaN</td>\n      <td>NaN</td>\n      <td>...</td>\n      <td>NaN</td>\n      <td>NaN</td>\n      <td>NaN</td>\n      <td>NaN</td>\n      <td>NaN</td>\n      <td>NaN</td>\n      <td>NaN</td>\n      <td>NaN</td>\n      <td>NaN</td>\n      <td>NaN</td>\n    </tr>\n  </tbody>\n</table>\n<p>1 rows × 9724 columns</p>\n</div>"
     },
     "metadata": {},
     "execution_count": 41
    }
   ],
   "source": [
    "new_user_vector = pd.DataFrame([np.nan]*len(R.columns), index=R.columns).transpose()\n",
    "new_user_vector"
   ]
  },
  {
   "cell_type": "code",
   "execution_count": 42,
   "metadata": {},
   "outputs": [
    {
     "output_type": "execute_result",
     "data": {
      "text/plain": "Index(['Toy Story', 'Jumanji', 'Grumpier Old Men', 'Waiting to Exhale',\n       'Father of the Bride Part II', 'Heat', 'Sabrina', 'Tom and Huck',\n       'Sudden Death', 'GoldenEye',\n       ...\n       'Gintama: The Movie', 'anohana: The Flower We Saw That Day - The Movie',\n       'Silver Spoon', 'Love Live! The School Idol Movie',\n       'Jon Stewart Has Left the Building',\n       'Black Butler: Book of the Atlantic', 'No Game No Life: Zero', 'Flint',\n       'Bungo Stray Dogs: Dead Apple', 'Andrew Dice Clay: Dice Rules'],\n      dtype='object', length=9724)"
     },
     "metadata": {},
     "execution_count": 42
    }
   ],
   "source": [
    "new_user_vector.columns"
   ]
  },
  {
   "cell_type": "code",
   "execution_count": 43,
   "metadata": {
    "tags": []
   },
   "outputs": [
    {
     "output_type": "stream",
     "name": "stdout",
     "text": "Toy Story\nM\nUp\n"
    }
   ],
   "source": [
    "# Loop to check whether user_id is there\n",
    "for key, value in flask_user_input.items():\n",
    "    if key in new_user_vector.columns:\n",
    "        new_user_vector.loc[:, key] = float(value)\n",
    "    else: \n",
    "        closest_match = process.extract(key, R.columns)[0][0]\n",
    "        new_user_vector.loc[:, closest_match] = float(value)\n",
    "        print(closest_match)"
   ]
  },
  {
   "cell_type": "code",
   "execution_count": 44,
   "metadata": {},
   "outputs": [
    {
     "output_type": "execute_result",
     "data": {
      "text/plain": "   Toy Story  Jumanji  Grumpier Old Men  Waiting to Exhale  \\\n0        5.0      NaN               NaN                NaN   \n\n   Father of the Bride Part II  Heat  Sabrina  Tom and Huck  Sudden Death  \\\n0                          NaN   NaN      NaN           NaN           NaN   \n\n   GoldenEye  ...  Gintama: The Movie  \\\n0        NaN  ...                 NaN   \n\n   anohana: The Flower We Saw That Day - The Movie  Silver Spoon  \\\n0                                              NaN           NaN   \n\n   Love Live! The School Idol Movie  Jon Stewart Has Left the Building  \\\n0                               NaN                                NaN   \n\n   Black Butler: Book of the Atlantic  No Game No Life: Zero  Flint  \\\n0                                 NaN                    NaN    NaN   \n\n   Bungo Stray Dogs: Dead Apple  Andrew Dice Clay: Dice Rules  \n0                           NaN                           NaN  \n\n[1 rows x 9724 columns]",
      "text/html": "<div>\n<style scoped>\n    .dataframe tbody tr th:only-of-type {\n        vertical-align: middle;\n    }\n\n    .dataframe tbody tr th {\n        vertical-align: top;\n    }\n\n    .dataframe thead th {\n        text-align: right;\n    }\n</style>\n<table border=\"1\" class=\"dataframe\">\n  <thead>\n    <tr style=\"text-align: right;\">\n      <th></th>\n      <th>Toy Story</th>\n      <th>Jumanji</th>\n      <th>Grumpier Old Men</th>\n      <th>Waiting to Exhale</th>\n      <th>Father of the Bride Part II</th>\n      <th>Heat</th>\n      <th>Sabrina</th>\n      <th>Tom and Huck</th>\n      <th>Sudden Death</th>\n      <th>GoldenEye</th>\n      <th>...</th>\n      <th>Gintama: The Movie</th>\n      <th>anohana: The Flower We Saw That Day - The Movie</th>\n      <th>Silver Spoon</th>\n      <th>Love Live! The School Idol Movie</th>\n      <th>Jon Stewart Has Left the Building</th>\n      <th>Black Butler: Book of the Atlantic</th>\n      <th>No Game No Life: Zero</th>\n      <th>Flint</th>\n      <th>Bungo Stray Dogs: Dead Apple</th>\n      <th>Andrew Dice Clay: Dice Rules</th>\n    </tr>\n  </thead>\n  <tbody>\n    <tr>\n      <th>0</th>\n      <td>5.0</td>\n      <td>NaN</td>\n      <td>NaN</td>\n      <td>NaN</td>\n      <td>NaN</td>\n      <td>NaN</td>\n      <td>NaN</td>\n      <td>NaN</td>\n      <td>NaN</td>\n      <td>NaN</td>\n      <td>...</td>\n      <td>NaN</td>\n      <td>NaN</td>\n      <td>NaN</td>\n      <td>NaN</td>\n      <td>NaN</td>\n      <td>NaN</td>\n      <td>NaN</td>\n      <td>NaN</td>\n      <td>NaN</td>\n      <td>NaN</td>\n    </tr>\n  </tbody>\n</table>\n<p>1 rows × 9724 columns</p>\n</div>"
     },
     "metadata": {},
     "execution_count": 44
    }
   ],
   "source": [
    "new_user_vector"
   ]
  },
  {
   "cell_type": "code",
   "execution_count": 45,
   "metadata": {},
   "outputs": [],
   "source": [
    "#new_user_vector.loc[0, '7002']"
   ]
  },
  {
   "cell_type": "code",
   "execution_count": 46,
   "metadata": {},
   "outputs": [
    {
     "output_type": "execute_result",
     "data": {
      "text/plain": "   Toy Story  Jumanji  Grumpier Old Men  Waiting to Exhale  \\\n0        5.0      2.5               2.5                2.5   \n\n   Father of the Bride Part II  Heat  Sabrina  Tom and Huck  Sudden Death  \\\n0                          2.5   2.5      2.5           2.5           2.5   \n\n   GoldenEye  ...  Gintama: The Movie  \\\n0        2.5  ...                 2.5   \n\n   anohana: The Flower We Saw That Day - The Movie  Silver Spoon  \\\n0                                              2.5           2.5   \n\n   Love Live! The School Idol Movie  Jon Stewart Has Left the Building  \\\n0                               2.5                                2.5   \n\n   Black Butler: Book of the Atlantic  No Game No Life: Zero  Flint  \\\n0                                 2.5                    2.5    2.5   \n\n   Bungo Stray Dogs: Dead Apple  Andrew Dice Clay: Dice Rules  \n0                           2.5                           2.5  \n\n[1 rows x 9724 columns]",
      "text/html": "<div>\n<style scoped>\n    .dataframe tbody tr th:only-of-type {\n        vertical-align: middle;\n    }\n\n    .dataframe tbody tr th {\n        vertical-align: top;\n    }\n\n    .dataframe thead th {\n        text-align: right;\n    }\n</style>\n<table border=\"1\" class=\"dataframe\">\n  <thead>\n    <tr style=\"text-align: right;\">\n      <th></th>\n      <th>Toy Story</th>\n      <th>Jumanji</th>\n      <th>Grumpier Old Men</th>\n      <th>Waiting to Exhale</th>\n      <th>Father of the Bride Part II</th>\n      <th>Heat</th>\n      <th>Sabrina</th>\n      <th>Tom and Huck</th>\n      <th>Sudden Death</th>\n      <th>GoldenEye</th>\n      <th>...</th>\n      <th>Gintama: The Movie</th>\n      <th>anohana: The Flower We Saw That Day - The Movie</th>\n      <th>Silver Spoon</th>\n      <th>Love Live! The School Idol Movie</th>\n      <th>Jon Stewart Has Left the Building</th>\n      <th>Black Butler: Book of the Atlantic</th>\n      <th>No Game No Life: Zero</th>\n      <th>Flint</th>\n      <th>Bungo Stray Dogs: Dead Apple</th>\n      <th>Andrew Dice Clay: Dice Rules</th>\n    </tr>\n  </thead>\n  <tbody>\n    <tr>\n      <th>0</th>\n      <td>5.0</td>\n      <td>2.5</td>\n      <td>2.5</td>\n      <td>2.5</td>\n      <td>2.5</td>\n      <td>2.5</td>\n      <td>2.5</td>\n      <td>2.5</td>\n      <td>2.5</td>\n      <td>2.5</td>\n      <td>...</td>\n      <td>2.5</td>\n      <td>2.5</td>\n      <td>2.5</td>\n      <td>2.5</td>\n      <td>2.5</td>\n      <td>2.5</td>\n      <td>2.5</td>\n      <td>2.5</td>\n      <td>2.5</td>\n      <td>2.5</td>\n    </tr>\n  </tbody>\n</table>\n<p>1 rows × 9724 columns</p>\n</div>"
     },
     "metadata": {},
     "execution_count": 46
    }
   ],
   "source": [
    "# Fill in the missing values\n",
    "new_user_vector_filled = new_user_vector.fillna(2.5)\n",
    "new_user_vector_filled"
   ]
  },
  {
   "cell_type": "code",
   "execution_count": 47,
   "metadata": {},
   "outputs": [
    {
     "output_type": "execute_result",
     "data": {
      "text/plain": "array([[3.0256273 , 0.1640173 , 0.17379246, 0.07788463, 0.28467714,\n        0.11339658, 0.28992412, 0.25081801, 0.28531869, 0.32781171,\n        0.15002553, 0.04820143, 0.19307752, 0.11219479, 0.08970972,\n        0.17146205, 0.12418466, 0.10196667, 0.22100728]])"
     },
     "metadata": {},
     "execution_count": 47
    }
   ],
   "source": [
    "# Calculate the hidden profile with nmf.transform\n",
    "hidden_profile = model.transform(new_user_vector_filled)\n",
    "hidden_profile # user-feature_matrix of new user"
   ]
  },
  {
   "cell_type": "code",
   "execution_count": 48,
   "metadata": {},
   "outputs": [
    {
     "output_type": "execute_result",
     "data": {
      "text/plain": "   Toy Story   Jumanji  Grumpier Old Men  Waiting to Exhale  \\\n0   2.686952  2.515091            2.5095           2.493251   \n\n   Father of the Bride Part II      Heat   Sabrina  Tom and Huck  \\\n0                     2.525187  2.461421  2.528322      2.492341   \n\n   Sudden Death  GoldenEye  ...  Gintama: The Movie  \\\n0      2.526769   2.526729  ...            2.503039   \n\n   anohana: The Flower We Saw That Day - The Movie  Silver Spoon  \\\n0                                         2.501164      2.504915   \n\n   Love Live! The School Idol Movie  Jon Stewart Has Left the Building  \\\n0                          2.504915                           2.503039   \n\n   Black Butler: Book of the Atlantic  No Game No Life: Zero     Flint  \\\n0                            2.504915               2.503039  2.503039   \n\n   Bungo Stray Dogs: Dead Apple  Andrew Dice Clay: Dice Rules  \n0                      2.503039                      2.500606  \n\n[1 rows x 9724 columns]",
      "text/html": "<div>\n<style scoped>\n    .dataframe tbody tr th:only-of-type {\n        vertical-align: middle;\n    }\n\n    .dataframe tbody tr th {\n        vertical-align: top;\n    }\n\n    .dataframe thead th {\n        text-align: right;\n    }\n</style>\n<table border=\"1\" class=\"dataframe\">\n  <thead>\n    <tr style=\"text-align: right;\">\n      <th></th>\n      <th>Toy Story</th>\n      <th>Jumanji</th>\n      <th>Grumpier Old Men</th>\n      <th>Waiting to Exhale</th>\n      <th>Father of the Bride Part II</th>\n      <th>Heat</th>\n      <th>Sabrina</th>\n      <th>Tom and Huck</th>\n      <th>Sudden Death</th>\n      <th>GoldenEye</th>\n      <th>...</th>\n      <th>Gintama: The Movie</th>\n      <th>anohana: The Flower We Saw That Day - The Movie</th>\n      <th>Silver Spoon</th>\n      <th>Love Live! The School Idol Movie</th>\n      <th>Jon Stewart Has Left the Building</th>\n      <th>Black Butler: Book of the Atlantic</th>\n      <th>No Game No Life: Zero</th>\n      <th>Flint</th>\n      <th>Bungo Stray Dogs: Dead Apple</th>\n      <th>Andrew Dice Clay: Dice Rules</th>\n    </tr>\n  </thead>\n  <tbody>\n    <tr>\n      <th>0</th>\n      <td>2.686952</td>\n      <td>2.515091</td>\n      <td>2.5095</td>\n      <td>2.493251</td>\n      <td>2.525187</td>\n      <td>2.461421</td>\n      <td>2.528322</td>\n      <td>2.492341</td>\n      <td>2.526769</td>\n      <td>2.526729</td>\n      <td>...</td>\n      <td>2.503039</td>\n      <td>2.501164</td>\n      <td>2.504915</td>\n      <td>2.504915</td>\n      <td>2.503039</td>\n      <td>2.504915</td>\n      <td>2.503039</td>\n      <td>2.503039</td>\n      <td>2.503039</td>\n      <td>2.500606</td>\n    </tr>\n  </tbody>\n</table>\n<p>1 rows × 9724 columns</p>\n</div>"
     },
     "metadata": {},
     "execution_count": 48
    }
   ],
   "source": [
    "# Calculate the predictions using np.dot\n",
    "rating_prediction = pd.DataFrame(np.dot(hidden_profile, model.components_), columns= new_user_vector.columns)\n",
    "rating_prediction"
   ]
  },
  {
   "cell_type": "code",
   "execution_count": 49,
   "metadata": {},
   "outputs": [
    {
     "output_type": "execute_result",
     "data": {
      "text/plain": "array([False,  True,  True, ...,  True,  True,  True])"
     },
     "metadata": {},
     "execution_count": 49
    }
   ],
   "source": [
    "# Create a boolean mask to filter out the positions where the data was originally NaN \n",
    "bool_mask = np.isnan(new_user_vector.values[0])\n",
    "bool_mask"
   ]
  },
  {
   "cell_type": "code",
   "execution_count": 50,
   "metadata": {},
   "outputs": [
    {
     "output_type": "execute_result",
     "data": {
      "text/plain": "Index(['Jumanji', 'Grumpier Old Men', 'Waiting to Exhale',\n       'Father of the Bride Part II', 'Heat', 'Sabrina', 'Tom and Huck',\n       'Sudden Death', 'GoldenEye', 'American President, The',\n       ...\n       'Gintama: The Movie', 'anohana: The Flower We Saw That Day - The Movie',\n       'Silver Spoon', 'Love Live! The School Idol Movie',\n       'Jon Stewart Has Left the Building',\n       'Black Butler: Book of the Atlantic', 'No Game No Life: Zero', 'Flint',\n       'Bungo Stray Dogs: Dead Apple', 'Andrew Dice Clay: Dice Rules'],\n      dtype='object', length=9721)"
     },
     "metadata": {},
     "execution_count": 50
    }
   ],
   "source": [
    "# Find the movies that have not yet been seen\n",
    "movies_not_seen = rating_prediction.columns[bool_mask]\n",
    "movies_not_seen"
   ]
  },
  {
   "cell_type": "code",
   "execution_count": 51,
   "metadata": {},
   "outputs": [
    {
     "output_type": "execute_result",
     "data": {
      "text/plain": "                                           0\nJumanji                             2.515091\nGrumpier Old Men                    2.509500\nWaiting to Exhale                   2.493251\nFather of the Bride Part II         2.525187\nHeat                                2.461421\n...                                      ...\nBlack Butler: Book of the Atlantic  2.504915\nNo Game No Life: Zero               2.503039\nFlint                               2.503039\nBungo Stray Dogs: Dead Apple        2.503039\nAndrew Dice Clay: Dice Rules        2.500606\n\n[10459 rows x 1 columns]",
      "text/html": "<div>\n<style scoped>\n    .dataframe tbody tr th:only-of-type {\n        vertical-align: middle;\n    }\n\n    .dataframe tbody tr th {\n        vertical-align: top;\n    }\n\n    .dataframe thead th {\n        text-align: right;\n    }\n</style>\n<table border=\"1\" class=\"dataframe\">\n  <thead>\n    <tr style=\"text-align: right;\">\n      <th></th>\n      <th>0</th>\n    </tr>\n  </thead>\n  <tbody>\n    <tr>\n      <th>Jumanji</th>\n      <td>2.515091</td>\n    </tr>\n    <tr>\n      <th>Grumpier Old Men</th>\n      <td>2.509500</td>\n    </tr>\n    <tr>\n      <th>Waiting to Exhale</th>\n      <td>2.493251</td>\n    </tr>\n    <tr>\n      <th>Father of the Bride Part II</th>\n      <td>2.525187</td>\n    </tr>\n    <tr>\n      <th>Heat</th>\n      <td>2.461421</td>\n    </tr>\n    <tr>\n      <th>...</th>\n      <td>...</td>\n    </tr>\n    <tr>\n      <th>Black Butler: Book of the Atlantic</th>\n      <td>2.504915</td>\n    </tr>\n    <tr>\n      <th>No Game No Life: Zero</th>\n      <td>2.503039</td>\n    </tr>\n    <tr>\n      <th>Flint</th>\n      <td>2.503039</td>\n    </tr>\n    <tr>\n      <th>Bungo Stray Dogs: Dead Apple</th>\n      <td>2.503039</td>\n    </tr>\n    <tr>\n      <th>Andrew Dice Clay: Dice Rules</th>\n      <td>2.500606</td>\n    </tr>\n  </tbody>\n</table>\n<p>10459 rows × 1 columns</p>\n</div>"
     },
     "metadata": {},
     "execution_count": 51
    }
   ],
   "source": [
    "# Find recommendations for unseen movies\n",
    "movies_not_seen_df = rating_prediction[movies_not_seen].T\n",
    "movies_not_seen_df"
   ]
  },
  {
   "cell_type": "code",
   "execution_count": 52,
   "metadata": {},
   "outputs": [
    {
     "output_type": "execute_result",
     "data": {
      "text/plain": "Index(['Shawshank Redemption, The', 'Forrest Gump',\n       'Star Wars: Episode IV - A New Hope'],\n      dtype='object')"
     },
     "metadata": {},
     "execution_count": 52
    }
   ],
   "source": [
    "# Get recommendations\n",
    "movies_not_seen_df.sort_values(by=0, ascending=False).index[:3]"
   ]
  },
  {
   "cell_type": "code",
   "execution_count": 53,
   "metadata": {},
   "outputs": [
    {
     "output_type": "error",
     "ename": "SyntaxError",
     "evalue": "invalid syntax (<ipython-input-53-91fcc89c6ec8>, line 3)",
     "traceback": [
      "\u001b[0;36m  File \u001b[0;32m\"<ipython-input-53-91fcc89c6ec8>\"\u001b[0;36m, line \u001b[0;32m3\u001b[0m\n\u001b[0;31m    * check for movies not in database\u001b[0m\n\u001b[0m            ^\u001b[0m\n\u001b[0;31mSyntaxError\u001b[0m\u001b[0;31m:\u001b[0m invalid syntax\n"
     ]
    }
   ],
   "source": [
    "# Wednesday Evening -> PRediciton is working for movies in the database\n",
    "# ToDo \n",
    "* check for movies not in database\n",
    "* Website\n",
    "* connect model to database\n",
    "* user-input-correction/ fuzzy-wuzzy-thing"
   ]
  },
  {
   "cell_type": "code",
   "execution_count": null,
   "metadata": {},
   "outputs": [],
   "source": []
  }
 ],
 "metadata": {
  "kernelspec": {
   "display_name": "Python 3",
   "language": "python",
   "name": "python3"
  },
  "language_info": {
   "codemirror_mode": {
    "name": "ipython",
    "version": 3
   },
   "file_extension": ".py",
   "mimetype": "text/x-python",
   "name": "python",
   "nbconvert_exporter": "python",
   "pygments_lexer": "ipython3",
   "version": "3.7.6"
  }
 },
 "nbformat": 4,
 "nbformat_minor": 2
}